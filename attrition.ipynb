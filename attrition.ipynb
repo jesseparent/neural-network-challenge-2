{
 "cells": [
  {
   "cell_type": "markdown",
   "metadata": {
    "id": "alIIEHibGc3M"
   },
   "source": [
    "## Part 1: Preprocessing"
   ]
  },
  {
   "cell_type": "code",
   "execution_count": 134,
   "metadata": {
    "colab": {
     "base_uri": "https://localhost:8080/",
     "height": 325
    },
    "executionInfo": {
     "elapsed": 12323,
     "status": "ok",
     "timestamp": 1730699226906,
     "user": {
      "displayName": "Alexander Booth",
      "userId": "02269714993535573104"
     },
     "user_tz": 360
    },
    "id": "6eDUJ4NtGc3P",
    "outputId": "eeae54b5-3d17-442d-94ba-00dd55b89964"
   },
   "outputs": [
    {
     "data": {
      "text/html": [
       "<div>\n",
       "<style scoped>\n",
       "    .dataframe tbody tr th:only-of-type {\n",
       "        vertical-align: middle;\n",
       "    }\n",
       "\n",
       "    .dataframe tbody tr th {\n",
       "        vertical-align: top;\n",
       "    }\n",
       "\n",
       "    .dataframe thead th {\n",
       "        text-align: right;\n",
       "    }\n",
       "</style>\n",
       "<table border=\"1\" class=\"dataframe\">\n",
       "  <thead>\n",
       "    <tr style=\"text-align: right;\">\n",
       "      <th></th>\n",
       "      <th>Age</th>\n",
       "      <th>Attrition</th>\n",
       "      <th>BusinessTravel</th>\n",
       "      <th>Department</th>\n",
       "      <th>DistanceFromHome</th>\n",
       "      <th>Education</th>\n",
       "      <th>EducationField</th>\n",
       "      <th>EnvironmentSatisfaction</th>\n",
       "      <th>HourlyRate</th>\n",
       "      <th>JobInvolvement</th>\n",
       "      <th>...</th>\n",
       "      <th>PerformanceRating</th>\n",
       "      <th>RelationshipSatisfaction</th>\n",
       "      <th>StockOptionLevel</th>\n",
       "      <th>TotalWorkingYears</th>\n",
       "      <th>TrainingTimesLastYear</th>\n",
       "      <th>WorkLifeBalance</th>\n",
       "      <th>YearsAtCompany</th>\n",
       "      <th>YearsInCurrentRole</th>\n",
       "      <th>YearsSinceLastPromotion</th>\n",
       "      <th>YearsWithCurrManager</th>\n",
       "    </tr>\n",
       "  </thead>\n",
       "  <tbody>\n",
       "    <tr>\n",
       "      <th>0</th>\n",
       "      <td>41</td>\n",
       "      <td>Yes</td>\n",
       "      <td>Travel_Rarely</td>\n",
       "      <td>Sales</td>\n",
       "      <td>1</td>\n",
       "      <td>2</td>\n",
       "      <td>Life Sciences</td>\n",
       "      <td>2</td>\n",
       "      <td>94</td>\n",
       "      <td>3</td>\n",
       "      <td>...</td>\n",
       "      <td>3</td>\n",
       "      <td>1</td>\n",
       "      <td>0</td>\n",
       "      <td>8</td>\n",
       "      <td>0</td>\n",
       "      <td>1</td>\n",
       "      <td>6</td>\n",
       "      <td>4</td>\n",
       "      <td>0</td>\n",
       "      <td>5</td>\n",
       "    </tr>\n",
       "    <tr>\n",
       "      <th>1</th>\n",
       "      <td>49</td>\n",
       "      <td>No</td>\n",
       "      <td>Travel_Frequently</td>\n",
       "      <td>Research &amp; Development</td>\n",
       "      <td>8</td>\n",
       "      <td>1</td>\n",
       "      <td>Life Sciences</td>\n",
       "      <td>3</td>\n",
       "      <td>61</td>\n",
       "      <td>2</td>\n",
       "      <td>...</td>\n",
       "      <td>4</td>\n",
       "      <td>4</td>\n",
       "      <td>1</td>\n",
       "      <td>10</td>\n",
       "      <td>3</td>\n",
       "      <td>3</td>\n",
       "      <td>10</td>\n",
       "      <td>7</td>\n",
       "      <td>1</td>\n",
       "      <td>7</td>\n",
       "    </tr>\n",
       "    <tr>\n",
       "      <th>2</th>\n",
       "      <td>37</td>\n",
       "      <td>Yes</td>\n",
       "      <td>Travel_Rarely</td>\n",
       "      <td>Research &amp; Development</td>\n",
       "      <td>2</td>\n",
       "      <td>2</td>\n",
       "      <td>Other</td>\n",
       "      <td>4</td>\n",
       "      <td>92</td>\n",
       "      <td>2</td>\n",
       "      <td>...</td>\n",
       "      <td>3</td>\n",
       "      <td>2</td>\n",
       "      <td>0</td>\n",
       "      <td>7</td>\n",
       "      <td>3</td>\n",
       "      <td>3</td>\n",
       "      <td>0</td>\n",
       "      <td>0</td>\n",
       "      <td>0</td>\n",
       "      <td>0</td>\n",
       "    </tr>\n",
       "    <tr>\n",
       "      <th>3</th>\n",
       "      <td>33</td>\n",
       "      <td>No</td>\n",
       "      <td>Travel_Frequently</td>\n",
       "      <td>Research &amp; Development</td>\n",
       "      <td>3</td>\n",
       "      <td>4</td>\n",
       "      <td>Life Sciences</td>\n",
       "      <td>4</td>\n",
       "      <td>56</td>\n",
       "      <td>3</td>\n",
       "      <td>...</td>\n",
       "      <td>3</td>\n",
       "      <td>3</td>\n",
       "      <td>0</td>\n",
       "      <td>8</td>\n",
       "      <td>3</td>\n",
       "      <td>3</td>\n",
       "      <td>8</td>\n",
       "      <td>7</td>\n",
       "      <td>3</td>\n",
       "      <td>0</td>\n",
       "    </tr>\n",
       "    <tr>\n",
       "      <th>4</th>\n",
       "      <td>27</td>\n",
       "      <td>No</td>\n",
       "      <td>Travel_Rarely</td>\n",
       "      <td>Research &amp; Development</td>\n",
       "      <td>2</td>\n",
       "      <td>1</td>\n",
       "      <td>Medical</td>\n",
       "      <td>1</td>\n",
       "      <td>40</td>\n",
       "      <td>3</td>\n",
       "      <td>...</td>\n",
       "      <td>3</td>\n",
       "      <td>4</td>\n",
       "      <td>1</td>\n",
       "      <td>6</td>\n",
       "      <td>3</td>\n",
       "      <td>3</td>\n",
       "      <td>2</td>\n",
       "      <td>2</td>\n",
       "      <td>2</td>\n",
       "      <td>2</td>\n",
       "    </tr>\n",
       "  </tbody>\n",
       "</table>\n",
       "<p>5 rows × 27 columns</p>\n",
       "</div>"
      ],
      "text/plain": [
       "   Age Attrition     BusinessTravel              Department  DistanceFromHome  \\\n",
       "0   41       Yes      Travel_Rarely                   Sales                 1   \n",
       "1   49        No  Travel_Frequently  Research & Development                 8   \n",
       "2   37       Yes      Travel_Rarely  Research & Development                 2   \n",
       "3   33        No  Travel_Frequently  Research & Development                 3   \n",
       "4   27        No      Travel_Rarely  Research & Development                 2   \n",
       "\n",
       "   Education EducationField  EnvironmentSatisfaction  HourlyRate  \\\n",
       "0          2  Life Sciences                        2          94   \n",
       "1          1  Life Sciences                        3          61   \n",
       "2          2          Other                        4          92   \n",
       "3          4  Life Sciences                        4          56   \n",
       "4          1        Medical                        1          40   \n",
       "\n",
       "   JobInvolvement  ...  PerformanceRating RelationshipSatisfaction  \\\n",
       "0               3  ...                  3                        1   \n",
       "1               2  ...                  4                        4   \n",
       "2               2  ...                  3                        2   \n",
       "3               3  ...                  3                        3   \n",
       "4               3  ...                  3                        4   \n",
       "\n",
       "   StockOptionLevel TotalWorkingYears  TrainingTimesLastYear WorkLifeBalance  \\\n",
       "0                 0                 8                      0               1   \n",
       "1                 1                10                      3               3   \n",
       "2                 0                 7                      3               3   \n",
       "3                 0                 8                      3               3   \n",
       "4                 1                 6                      3               3   \n",
       "\n",
       "   YearsAtCompany  YearsInCurrentRole  YearsSinceLastPromotion  \\\n",
       "0               6                   4                        0   \n",
       "1              10                   7                        1   \n",
       "2               0                   0                        0   \n",
       "3               8                   7                        3   \n",
       "4               2                   2                        2   \n",
       "\n",
       "   YearsWithCurrManager  \n",
       "0                     5  \n",
       "1                     7  \n",
       "2                     0  \n",
       "3                     0  \n",
       "4                     2  \n",
       "\n",
       "[5 rows x 27 columns]"
      ]
     },
     "execution_count": 134,
     "metadata": {},
     "output_type": "execute_result"
    }
   ],
   "source": [
    "# Import our dependencies\n",
    "from sklearn.model_selection import train_test_split\n",
    "from sklearn.preprocessing import StandardScaler\n",
    "import pandas as pd\n",
    "import numpy as np\n",
    "from tensorflow.keras.models import Model\n",
    "from tensorflow.keras import layers\n",
    "\n",
    "#  Import and read the attrition data\n",
    "attrition_df = pd.read_csv('https://static.bc-edx.com/ai/ail-v-1-0/m19/lms/datasets/attrition.csv')\n",
    "attrition_df.head()"
   ]
  },
  {
   "cell_type": "code",
   "execution_count": 135,
   "metadata": {
    "colab": {
     "base_uri": "https://localhost:8080/",
     "height": 930
    },
    "executionInfo": {
     "elapsed": 10,
     "status": "ok",
     "timestamp": 1730699226906,
     "user": {
      "displayName": "Alexander Booth",
      "userId": "02269714993535573104"
     },
     "user_tz": 360
    },
    "id": "g22aQSY4Gc3Q",
    "outputId": "e8b68509-45d8-42e0-a9db-1bdce48e4b2d"
   },
   "outputs": [
    {
     "data": {
      "text/plain": [
       "Age                         43\n",
       "Attrition                    2\n",
       "BusinessTravel               3\n",
       "Department                   3\n",
       "DistanceFromHome            29\n",
       "Education                    5\n",
       "EducationField               6\n",
       "EnvironmentSatisfaction      4\n",
       "HourlyRate                  71\n",
       "JobInvolvement               4\n",
       "JobLevel                     5\n",
       "JobRole                      9\n",
       "JobSatisfaction              4\n",
       "MaritalStatus                3\n",
       "NumCompaniesWorked          10\n",
       "OverTime                     2\n",
       "PercentSalaryHike           15\n",
       "PerformanceRating            2\n",
       "RelationshipSatisfaction     4\n",
       "StockOptionLevel             4\n",
       "TotalWorkingYears           40\n",
       "TrainingTimesLastYear        7\n",
       "WorkLifeBalance              4\n",
       "YearsAtCompany              37\n",
       "YearsInCurrentRole          19\n",
       "YearsSinceLastPromotion     16\n",
       "YearsWithCurrManager        18\n",
       "dtype: int64"
      ]
     },
     "execution_count": 135,
     "metadata": {},
     "output_type": "execute_result"
    }
   ],
   "source": [
    "# Determine the number of unique values in each column\n",
    "attrition_df.nunique()"
   ]
  },
  {
   "cell_type": "code",
   "execution_count": 155,
   "metadata": {},
   "outputs": [
    {
     "data": {
      "text/plain": [
       "(Attrition\n",
       " No     1233\n",
       " Yes     237\n",
       " Name: count, dtype: int64,\n",
       " Department\n",
       " Research & Development    961\n",
       " Sales                     446\n",
       " Human Resources            63\n",
       " Name: count, dtype: int64)"
      ]
     },
     "execution_count": 155,
     "metadata": {},
     "output_type": "execute_result"
    }
   ],
   "source": [
    "# Let's look at the unique value counts for attrition and departments\n",
    "attrition_df['Attrition'].value_counts(), attrition_df['Department'].value_counts()"
   ]
  },
  {
   "cell_type": "code",
   "execution_count": 136,
   "metadata": {
    "executionInfo": {
     "elapsed": 7,
     "status": "ok",
     "timestamp": 1730699226906,
     "user": {
      "displayName": "Alexander Booth",
      "userId": "02269714993535573104"
     },
     "user_tz": 360
    },
    "id": "50vMgBEnJbfM"
   },
   "outputs": [],
   "source": [
    "# Create y_df with the Attrition and Department columns\n",
    "y_df = attrition_df[['Attrition', 'Department']]\n"
   ]
  },
  {
   "cell_type": "code",
   "execution_count": 137,
   "metadata": {
    "colab": {
     "base_uri": "https://localhost:8080/",
     "height": 397
    },
    "executionInfo": {
     "elapsed": 125,
     "status": "ok",
     "timestamp": 1730699227025,
     "user": {
      "displayName": "Alexander Booth",
      "userId": "02269714993535573104"
     },
     "user_tz": 360
    },
    "id": "Virka0zLGc3R",
    "outputId": "24f181c9-7e2e-42cb-94e8-a75842f1ab01"
   },
   "outputs": [
    {
     "data": {
      "text/plain": [
       "Age                         int64\n",
       "DistanceFromHome            int64\n",
       "Education                   int64\n",
       "JobSatisfaction             int64\n",
       "OverTime                   object\n",
       "StockOptionLevel            int64\n",
       "WorkLifeBalance             int64\n",
       "YearsAtCompany              int64\n",
       "YearsSinceLastPromotion     int64\n",
       "NumCompaniesWorked          int64\n",
       "dtype: object"
      ]
     },
     "execution_count": 137,
     "metadata": {},
     "output_type": "execute_result"
    }
   ],
   "source": [
    "# Create a list of at least 10 column names to use as X data\n",
    "x_columns = ['Age', 'DistanceFromHome', 'Education', 'JobSatisfaction', 'OverTime', 'StockOptionLevel',\n",
    "    'WorkLifeBalance', 'YearsAtCompany', 'YearsSinceLastPromotion', 'NumCompaniesWorked']\n",
    "\n",
    "# Create X_df using your selected columns\n",
    "X_df = attrition_df[x_columns]\n",
    "\n",
    "\n",
    "# Show the data types for X_df\n",
    "X_df.dtypes\n",
    "\n"
   ]
  },
  {
   "cell_type": "code",
   "execution_count": 138,
   "metadata": {
    "executionInfo": {
     "elapsed": 9,
     "status": "ok",
     "timestamp": 1730699227025,
     "user": {
      "displayName": "Alexander Booth",
      "userId": "02269714993535573104"
     },
     "user_tz": 360
    },
    "id": "KaJfdOGUMHMR"
   },
   "outputs": [],
   "source": [
    "# Split the data into training and testing sets\n",
    "from sklearn.model_selection import train_test_split\n",
    "X_train, X_test, y_train, y_test = train_test_split(X_df, y_df, random_state=42)\n"
   ]
  },
  {
   "cell_type": "code",
   "execution_count": 139,
   "metadata": {
    "colab": {
     "base_uri": "https://localhost:8080/",
     "height": 178
    },
    "executionInfo": {
     "elapsed": 8,
     "status": "ok",
     "timestamp": 1730699227025,
     "user": {
      "displayName": "Alexander Booth",
      "userId": "02269714993535573104"
     },
     "user_tz": 360
    },
    "id": "NYubUJqiLCSp",
    "outputId": "6116187c-4afa-4d4a-aeb9-fdc2131d0d58"
   },
   "outputs": [
    {
     "name": "stdout",
     "output_type": "stream",
     "text": [
      "X_train dtypes:\n",
      "Age                        int64\n",
      "DistanceFromHome           int64\n",
      "Education                  int64\n",
      "JobSatisfaction            int64\n",
      "OverTime                   int64\n",
      "StockOptionLevel           int64\n",
      "WorkLifeBalance            int64\n",
      "YearsAtCompany             int64\n",
      "YearsSinceLastPromotion    int64\n",
      "NumCompaniesWorked         int64\n",
      "dtype: object\n",
      "\n",
      "X_test dtypes:\n",
      "Age                        int64\n",
      "DistanceFromHome           int64\n",
      "Education                  int64\n",
      "JobSatisfaction            int64\n",
      "OverTime                   int64\n",
      "StockOptionLevel           int64\n",
      "WorkLifeBalance            int64\n",
      "YearsAtCompany             int64\n",
      "YearsSinceLastPromotion    int64\n",
      "NumCompaniesWorked         int64\n",
      "dtype: object\n"
     ]
    }
   ],
   "source": [
    "# Convert your X data to numeric data types however you see fit\n",
    "# Add new code cells as necessary\n",
    "X_train['OverTime'] = X_train['OverTime'].map({'No': 0, 'Yes': 1}).astype('int64')\n",
    "X_test['OverTime'] = X_test['OverTime'].map({'No': 0, 'Yes': 1}).astype('int64')\n",
    "\n",
    "\n",
    "# Check the data types for X_train and X_test\n",
    "print(\"X_train dtypes:\")\n",
    "print(X_train.dtypes)\n",
    "print(\"\\nX_test dtypes:\")\n",
    "print(X_test.dtypes)\n",
    "\n"
   ]
  },
  {
   "cell_type": "code",
   "execution_count": 140,
   "metadata": {
    "executionInfo": {
     "elapsed": 6,
     "status": "ok",
     "timestamp": 1730699227162,
     "user": {
      "displayName": "Alexander Booth",
      "userId": "02269714993535573104"
     },
     "user_tz": 360
    },
    "id": "EWA-aIA5Gc3T"
   },
   "outputs": [],
   "source": [
    "# Create a StandardScaler\n",
    "scaler = StandardScaler()\n",
    "\n",
    "\n",
    "# Fit the StandardScaler to the training data\n",
    "scaler.fit(X_train)\n",
    "\n",
    "\n",
    "# Scale the training and testing data\n",
    "X_train_scaled = scaler.transform(X_train)\n",
    "X_test_scaled = scaler.transform(X_test)\n"
   ]
  },
  {
   "cell_type": "code",
   "execution_count": 141,
   "metadata": {
    "colab": {
     "base_uri": "https://localhost:8080/"
    },
    "executionInfo": {
     "elapsed": 99,
     "status": "ok",
     "timestamp": 1730699227256,
     "user": {
      "displayName": "Alexander Booth",
      "userId": "02269714993535573104"
     },
     "user_tz": 360
    },
    "id": "-z0Mky8vQSz4",
    "outputId": "5024d63f-7e4e-4a91-fb76-0b2c79c1bcfb"
   },
   "outputs": [
    {
     "name": "stdout",
     "output_type": "stream",
     "text": [
      "[[0. 1. 0.]\n",
      " [0. 0. 1.]\n",
      " [0. 0. 1.]\n",
      " ...\n",
      " [0. 1. 0.]\n",
      " [0. 1. 0.]\n",
      " [0. 0. 1.]]\n"
     ]
    }
   ],
   "source": [
    "from sklearn.preprocessing import OneHotEncoder\n",
    "\n",
    "# Create a OneHotEncoder for the Department column\n",
    "encoder_dept = OneHotEncoder(sparse_output=False)\n",
    "\n",
    "# Fit the encoder to the training data\n",
    "encoder_dept.fit(y_train[['Department']])\n",
    "\n",
    "\n",
    "# Create two new variables by applying the encoder\n",
    "# to the training and testing data\n",
    "y_train_encoded_dept = encoder_dept.transform(y_train[['Department']])\n",
    "y_test_encoded_dept = encoder_dept.transform(y_test[['Department']])\n",
    "\n",
    "print(y_train_encoded_dept)\n"
   ]
  },
  {
   "cell_type": "code",
   "execution_count": 142,
   "metadata": {
    "colab": {
     "base_uri": "https://localhost:8080/"
    },
    "executionInfo": {
     "elapsed": 5,
     "status": "ok",
     "timestamp": 1730699227257,
     "user": {
      "displayName": "Alexander Booth",
      "userId": "02269714993535573104"
     },
     "user_tz": 360
    },
    "id": "-G4DSpvFRrk4",
    "outputId": "1821049e-a4f0-437f-b8a7-e415431fbdb0"
   },
   "outputs": [
    {
     "name": "stdout",
     "output_type": "stream",
     "text": [
      "[[1. 0.]\n",
      " [1. 0.]\n",
      " [1. 0.]\n",
      " ...\n",
      " [0. 1.]\n",
      " [1. 0.]\n",
      " [1. 0.]]\n"
     ]
    }
   ],
   "source": [
    "# Create a OneHotEncoder for the Attrition column\n",
    "encoder_attr = OneHotEncoder(sparse_output=False)\n",
    "\n",
    "# Fit the encoder to the training data\n",
    "encoder_attr.fit(y_train[['Attrition']])\n",
    "\n",
    "# Create two new variables by applying the encoder\n",
    "# to the training and testing data\n",
    "y_train_encoded_attr = encoder_attr.transform(y_train[['Attrition']])\n",
    "y_test_encoded_attr = encoder_attr.transform(y_test[['Attrition']])\n",
    "\n",
    "print(y_train_encoded_attr)\n"
   ]
  },
  {
   "cell_type": "markdown",
   "metadata": {
    "id": "ykNmu_WWGc3T"
   },
   "source": [
    "## Part 2: Create, Compile, and Train the Model"
   ]
  },
  {
   "cell_type": "code",
   "execution_count": 143,
   "metadata": {
    "executionInfo": {
     "elapsed": 309,
     "status": "ok",
     "timestamp": 1730699227563,
     "user": {
      "displayName": "Alexander Booth",
      "userId": "02269714993535573104"
     },
     "user_tz": 360
    },
    "id": "WUptZqmSGc3T"
   },
   "outputs": [
    {
     "name": "stdout",
     "output_type": "stream",
     "text": [
      "Number of columns in X training data: 10\n"
     ]
    }
   ],
   "source": [
    "# Find the number of columns in the X training data.\n",
    "num_cols = X_train_scaled.shape[1]\n",
    "print(f\"Number of columns in X training data: {num_cols}\")\n",
    "\n",
    "\n",
    "# Create the input layer\n",
    "input = layers.Input(shape=(num_cols,), name='input')\n",
    "\n",
    "\n",
    "# Create at least two shared layers\n",
    "shared_1 = layers.Dense(64, activation='relu', name='shared_1')(input)\n",
    "shared_2 = layers.Dense(128, activation='relu', name='shared_2')(shared_1)\n"
   ]
  },
  {
   "cell_type": "code",
   "execution_count": 144,
   "metadata": {
    "executionInfo": {
     "elapsed": 118,
     "status": "ok",
     "timestamp": 1730699227678,
     "user": {
      "displayName": "Alexander Booth",
      "userId": "02269714993535573104"
     },
     "user_tz": 360
    },
    "id": "JukjTm2yTEqd"
   },
   "outputs": [],
   "source": [
    "# Create a branch for Department\n",
    "# with a hidden layer and an output layer\n",
    "\n",
    "# Create the hidden layer\n",
    "dept_hidden = layers.Dense(32, activation='relu', name='department_hidden')(shared_2)\n",
    "\n",
    "# Create the output layer\n",
    "dept_output = layers.Dense(y_train_encoded_dept.shape[1], activation='softmax', name='department_output')(dept_hidden)\n"
   ]
  },
  {
   "cell_type": "code",
   "execution_count": 145,
   "metadata": {
    "executionInfo": {
     "elapsed": 9,
     "status": "ok",
     "timestamp": 1730699227679,
     "user": {
      "displayName": "Alexander Booth",
      "userId": "02269714993535573104"
     },
     "user_tz": 360
    },
    "id": "9OqhUiOJUBkR"
   },
   "outputs": [],
   "source": [
    "# Create a branch for Attrition\n",
    "# with a hidden layer and an output layer\n",
    "\n",
    "# Create the hidden layer\n",
    "attr_hidden = layers.Dense(32, activation='relu', name='attrition_hidden')(shared_2)\n",
    "\n",
    "\n",
    "# Create the output layer\n",
    "attr_output = layers.Dense(y_train_encoded_attr.shape[1], activation='sigmoid', name='attrition_output')(attr_hidden)\n"
   ]
  },
  {
   "cell_type": "code",
   "execution_count": 146,
   "metadata": {},
   "outputs": [
    {
     "data": {
      "text/html": [
       "<pre style=\"white-space:pre;overflow-x:auto;line-height:normal;font-family:Menlo,'DejaVu Sans Mono',consolas,'Courier New',monospace\"><span style=\"font-weight: bold\">Model: \"functional_9\"</span>\n",
       "</pre>\n"
      ],
      "text/plain": [
       "\u001b[1mModel: \"functional_9\"\u001b[0m\n"
      ]
     },
     "metadata": {},
     "output_type": "display_data"
    },
    {
     "data": {
      "text/html": [
       "<pre style=\"white-space:pre;overflow-x:auto;line-height:normal;font-family:Menlo,'DejaVu Sans Mono',consolas,'Courier New',monospace\">┏━━━━━━━━━━━━━━━━━━━━━┳━━━━━━━━━━━━━━━━━━━┳━━━━━━━━━━━━┳━━━━━━━━━━━━━━━━━━━┓\n",
       "┃<span style=\"font-weight: bold\"> Layer (type)        </span>┃<span style=\"font-weight: bold\"> Output Shape      </span>┃<span style=\"font-weight: bold\">    Param # </span>┃<span style=\"font-weight: bold\"> Connected to      </span>┃\n",
       "┡━━━━━━━━━━━━━━━━━━━━━╇━━━━━━━━━━━━━━━━━━━╇━━━━━━━━━━━━╇━━━━━━━━━━━━━━━━━━━┩\n",
       "│ input (<span style=\"color: #0087ff; text-decoration-color: #0087ff\">InputLayer</span>)  │ (<span style=\"color: #00d7ff; text-decoration-color: #00d7ff\">None</span>, <span style=\"color: #00af00; text-decoration-color: #00af00\">10</span>)        │          <span style=\"color: #00af00; text-decoration-color: #00af00\">0</span> │ -                 │\n",
       "├─────────────────────┼───────────────────┼────────────┼───────────────────┤\n",
       "│ shared_1 (<span style=\"color: #0087ff; text-decoration-color: #0087ff\">Dense</span>)    │ (<span style=\"color: #00d7ff; text-decoration-color: #00d7ff\">None</span>, <span style=\"color: #00af00; text-decoration-color: #00af00\">64</span>)        │        <span style=\"color: #00af00; text-decoration-color: #00af00\">704</span> │ input[<span style=\"color: #00af00; text-decoration-color: #00af00\">0</span>][<span style=\"color: #00af00; text-decoration-color: #00af00\">0</span>]       │\n",
       "├─────────────────────┼───────────────────┼────────────┼───────────────────┤\n",
       "│ shared_2 (<span style=\"color: #0087ff; text-decoration-color: #0087ff\">Dense</span>)    │ (<span style=\"color: #00d7ff; text-decoration-color: #00d7ff\">None</span>, <span style=\"color: #00af00; text-decoration-color: #00af00\">128</span>)       │      <span style=\"color: #00af00; text-decoration-color: #00af00\">8,320</span> │ shared_1[<span style=\"color: #00af00; text-decoration-color: #00af00\">0</span>][<span style=\"color: #00af00; text-decoration-color: #00af00\">0</span>]    │\n",
       "├─────────────────────┼───────────────────┼────────────┼───────────────────┤\n",
       "│ department_hidden   │ (<span style=\"color: #00d7ff; text-decoration-color: #00d7ff\">None</span>, <span style=\"color: #00af00; text-decoration-color: #00af00\">32</span>)        │      <span style=\"color: #00af00; text-decoration-color: #00af00\">4,128</span> │ shared_2[<span style=\"color: #00af00; text-decoration-color: #00af00\">0</span>][<span style=\"color: #00af00; text-decoration-color: #00af00\">0</span>]    │\n",
       "│ (<span style=\"color: #0087ff; text-decoration-color: #0087ff\">Dense</span>)             │                   │            │                   │\n",
       "├─────────────────────┼───────────────────┼────────────┼───────────────────┤\n",
       "│ attrition_hidden    │ (<span style=\"color: #00d7ff; text-decoration-color: #00d7ff\">None</span>, <span style=\"color: #00af00; text-decoration-color: #00af00\">32</span>)        │      <span style=\"color: #00af00; text-decoration-color: #00af00\">4,128</span> │ shared_2[<span style=\"color: #00af00; text-decoration-color: #00af00\">0</span>][<span style=\"color: #00af00; text-decoration-color: #00af00\">0</span>]    │\n",
       "│ (<span style=\"color: #0087ff; text-decoration-color: #0087ff\">Dense</span>)             │                   │            │                   │\n",
       "├─────────────────────┼───────────────────┼────────────┼───────────────────┤\n",
       "│ department_output   │ (<span style=\"color: #00d7ff; text-decoration-color: #00d7ff\">None</span>, <span style=\"color: #00af00; text-decoration-color: #00af00\">3</span>)         │         <span style=\"color: #00af00; text-decoration-color: #00af00\">99</span> │ department_hidde… │\n",
       "│ (<span style=\"color: #0087ff; text-decoration-color: #0087ff\">Dense</span>)             │                   │            │                   │\n",
       "├─────────────────────┼───────────────────┼────────────┼───────────────────┤\n",
       "│ attrition_output    │ (<span style=\"color: #00d7ff; text-decoration-color: #00d7ff\">None</span>, <span style=\"color: #00af00; text-decoration-color: #00af00\">2</span>)         │         <span style=\"color: #00af00; text-decoration-color: #00af00\">66</span> │ attrition_hidden… │\n",
       "│ (<span style=\"color: #0087ff; text-decoration-color: #0087ff\">Dense</span>)             │                   │            │                   │\n",
       "└─────────────────────┴───────────────────┴────────────┴───────────────────┘\n",
       "</pre>\n"
      ],
      "text/plain": [
       "┏━━━━━━━━━━━━━━━━━━━━━┳━━━━━━━━━━━━━━━━━━━┳━━━━━━━━━━━━┳━━━━━━━━━━━━━━━━━━━┓\n",
       "┃\u001b[1m \u001b[0m\u001b[1mLayer (type)       \u001b[0m\u001b[1m \u001b[0m┃\u001b[1m \u001b[0m\u001b[1mOutput Shape     \u001b[0m\u001b[1m \u001b[0m┃\u001b[1m \u001b[0m\u001b[1m   Param #\u001b[0m\u001b[1m \u001b[0m┃\u001b[1m \u001b[0m\u001b[1mConnected to     \u001b[0m\u001b[1m \u001b[0m┃\n",
       "┡━━━━━━━━━━━━━━━━━━━━━╇━━━━━━━━━━━━━━━━━━━╇━━━━━━━━━━━━╇━━━━━━━━━━━━━━━━━━━┩\n",
       "│ input (\u001b[38;5;33mInputLayer\u001b[0m)  │ (\u001b[38;5;45mNone\u001b[0m, \u001b[38;5;34m10\u001b[0m)        │          \u001b[38;5;34m0\u001b[0m │ -                 │\n",
       "├─────────────────────┼───────────────────┼────────────┼───────────────────┤\n",
       "│ shared_1 (\u001b[38;5;33mDense\u001b[0m)    │ (\u001b[38;5;45mNone\u001b[0m, \u001b[38;5;34m64\u001b[0m)        │        \u001b[38;5;34m704\u001b[0m │ input[\u001b[38;5;34m0\u001b[0m][\u001b[38;5;34m0\u001b[0m]       │\n",
       "├─────────────────────┼───────────────────┼────────────┼───────────────────┤\n",
       "│ shared_2 (\u001b[38;5;33mDense\u001b[0m)    │ (\u001b[38;5;45mNone\u001b[0m, \u001b[38;5;34m128\u001b[0m)       │      \u001b[38;5;34m8,320\u001b[0m │ shared_1[\u001b[38;5;34m0\u001b[0m][\u001b[38;5;34m0\u001b[0m]    │\n",
       "├─────────────────────┼───────────────────┼────────────┼───────────────────┤\n",
       "│ department_hidden   │ (\u001b[38;5;45mNone\u001b[0m, \u001b[38;5;34m32\u001b[0m)        │      \u001b[38;5;34m4,128\u001b[0m │ shared_2[\u001b[38;5;34m0\u001b[0m][\u001b[38;5;34m0\u001b[0m]    │\n",
       "│ (\u001b[38;5;33mDense\u001b[0m)             │                   │            │                   │\n",
       "├─────────────────────┼───────────────────┼────────────┼───────────────────┤\n",
       "│ attrition_hidden    │ (\u001b[38;5;45mNone\u001b[0m, \u001b[38;5;34m32\u001b[0m)        │      \u001b[38;5;34m4,128\u001b[0m │ shared_2[\u001b[38;5;34m0\u001b[0m][\u001b[38;5;34m0\u001b[0m]    │\n",
       "│ (\u001b[38;5;33mDense\u001b[0m)             │                   │            │                   │\n",
       "├─────────────────────┼───────────────────┼────────────┼───────────────────┤\n",
       "│ department_output   │ (\u001b[38;5;45mNone\u001b[0m, \u001b[38;5;34m3\u001b[0m)         │         \u001b[38;5;34m99\u001b[0m │ department_hidde… │\n",
       "│ (\u001b[38;5;33mDense\u001b[0m)             │                   │            │                   │\n",
       "├─────────────────────┼───────────────────┼────────────┼───────────────────┤\n",
       "│ attrition_output    │ (\u001b[38;5;45mNone\u001b[0m, \u001b[38;5;34m2\u001b[0m)         │         \u001b[38;5;34m66\u001b[0m │ attrition_hidden… │\n",
       "│ (\u001b[38;5;33mDense\u001b[0m)             │                   │            │                   │\n",
       "└─────────────────────┴───────────────────┴────────────┴───────────────────┘\n"
      ]
     },
     "metadata": {},
     "output_type": "display_data"
    },
    {
     "data": {
      "text/html": [
       "<pre style=\"white-space:pre;overflow-x:auto;line-height:normal;font-family:Menlo,'DejaVu Sans Mono',consolas,'Courier New',monospace\"><span style=\"font-weight: bold\"> Total params: </span><span style=\"color: #00af00; text-decoration-color: #00af00\">17,445</span> (68.14 KB)\n",
       "</pre>\n"
      ],
      "text/plain": [
       "\u001b[1m Total params: \u001b[0m\u001b[38;5;34m17,445\u001b[0m (68.14 KB)\n"
      ]
     },
     "metadata": {},
     "output_type": "display_data"
    },
    {
     "data": {
      "text/html": [
       "<pre style=\"white-space:pre;overflow-x:auto;line-height:normal;font-family:Menlo,'DejaVu Sans Mono',consolas,'Courier New',monospace\"><span style=\"font-weight: bold\"> Trainable params: </span><span style=\"color: #00af00; text-decoration-color: #00af00\">17,445</span> (68.14 KB)\n",
       "</pre>\n"
      ],
      "text/plain": [
       "\u001b[1m Trainable params: \u001b[0m\u001b[38;5;34m17,445\u001b[0m (68.14 KB)\n"
      ]
     },
     "metadata": {},
     "output_type": "display_data"
    },
    {
     "data": {
      "text/html": [
       "<pre style=\"white-space:pre;overflow-x:auto;line-height:normal;font-family:Menlo,'DejaVu Sans Mono',consolas,'Courier New',monospace\"><span style=\"font-weight: bold\"> Non-trainable params: </span><span style=\"color: #00af00; text-decoration-color: #00af00\">0</span> (0.00 B)\n",
       "</pre>\n"
      ],
      "text/plain": [
       "\u001b[1m Non-trainable params: \u001b[0m\u001b[38;5;34m0\u001b[0m (0.00 B)\n"
      ]
     },
     "metadata": {},
     "output_type": "display_data"
    }
   ],
   "source": [
    "# Create the model\n",
    "model = Model(inputs=input, outputs=[dept_output, attr_output])\n",
    "\n",
    "\n",
    "# Compile the model\n",
    "model.compile(optimizer='adam',\n",
    "              loss={'department_output': 'categorical_crossentropy', 'attrition_output': 'binary_crossentropy'},\n",
    "              metrics={'department_output': 'accuracy', 'attrition_output': 'accuracy'})\n",
    "\n",
    "\n",
    "# Summarize the model\n",
    "model.summary()\n"
   ]
  },
  {
   "cell_type": "code",
   "execution_count": 147,
   "metadata": {},
   "outputs": [
    {
     "name": "stdout",
     "output_type": "stream",
     "text": [
      "Epoch 1/100\n",
      "\u001b[1m36/36\u001b[0m \u001b[32m━━━━━━━━━━━━━━━━━━━━\u001b[0m\u001b[37m\u001b[0m \u001b[1m4s\u001b[0m 18ms/step - attrition_output_accuracy: 0.6186 - attrition_output_loss: 0.6408 - department_output_accuracy: 0.6301 - department_output_loss: 0.8807 - loss: 1.5216 - val_attrition_output_accuracy: 0.7873 - val_attrition_output_loss: 0.5366 - val_department_output_accuracy: 0.6063 - val_department_output_loss: 0.8677 - val_loss: 1.4079\n",
      "Epoch 2/100\n",
      "\u001b[1m36/36\u001b[0m \u001b[32m━━━━━━━━━━━━━━━━━━━━\u001b[0m\u001b[37m\u001b[0m \u001b[1m0s\u001b[0m 6ms/step - attrition_output_accuracy: 0.8431 - attrition_output_loss: 0.4497 - department_output_accuracy: 0.6587 - department_output_loss: 0.7555 - loss: 1.2057 - val_attrition_output_accuracy: 0.7873 - val_attrition_output_loss: 0.4867 - val_department_output_accuracy: 0.6063 - val_department_output_loss: 0.8768 - val_loss: 1.3681\n",
      "Epoch 3/100\n",
      "\u001b[1m36/36\u001b[0m \u001b[32m━━━━━━━━━━━━━━━━━━━━\u001b[0m\u001b[37m\u001b[0m \u001b[1m0s\u001b[0m 6ms/step - attrition_output_accuracy: 0.8204 - attrition_output_loss: 0.4348 - department_output_accuracy: 0.6428 - department_output_loss: 0.7545 - loss: 1.1898 - val_attrition_output_accuracy: 0.7873 - val_attrition_output_loss: 0.4646 - val_department_output_accuracy: 0.6063 - val_department_output_loss: 0.8608 - val_loss: 1.3303\n",
      "Epoch 4/100\n",
      "\u001b[1m36/36\u001b[0m \u001b[32m━━━━━━━━━━━━━━━━━━━━\u001b[0m\u001b[37m\u001b[0m \u001b[1m0s\u001b[0m 7ms/step - attrition_output_accuracy: 0.8388 - attrition_output_loss: 0.3885 - department_output_accuracy: 0.6600 - department_output_loss: 0.7249 - loss: 1.1131 - val_attrition_output_accuracy: 0.8009 - val_attrition_output_loss: 0.4472 - val_department_output_accuracy: 0.6063 - val_department_output_loss: 0.8606 - val_loss: 1.3131\n",
      "Epoch 5/100\n",
      "\u001b[1m36/36\u001b[0m \u001b[32m━━━━━━━━━━━━━━━━━━━━\u001b[0m\u001b[37m\u001b[0m \u001b[1m0s\u001b[0m 7ms/step - attrition_output_accuracy: 0.8380 - attrition_output_loss: 0.3716 - department_output_accuracy: 0.6767 - department_output_loss: 0.7040 - loss: 1.0758 - val_attrition_output_accuracy: 0.8054 - val_attrition_output_loss: 0.4394 - val_department_output_accuracy: 0.6063 - val_department_output_loss: 0.8563 - val_loss: 1.3010\n",
      "Epoch 6/100\n",
      "\u001b[1m36/36\u001b[0m \u001b[32m━━━━━━━━━━━━━━━━━━━━\u001b[0m\u001b[37m\u001b[0m \u001b[1m0s\u001b[0m 6ms/step - attrition_output_accuracy: 0.8560 - attrition_output_loss: 0.3577 - department_output_accuracy: 0.6821 - department_output_loss: 0.6878 - loss: 1.0450 - val_attrition_output_accuracy: 0.8235 - val_attrition_output_loss: 0.4234 - val_department_output_accuracy: 0.5882 - val_department_output_loss: 0.8486 - val_loss: 1.2771\n",
      "Epoch 7/100\n",
      "\u001b[1m36/36\u001b[0m \u001b[32m━━━━━━━━━━━━━━━━━━━━\u001b[0m\u001b[37m\u001b[0m \u001b[1m0s\u001b[0m 6ms/step - attrition_output_accuracy: 0.8669 - attrition_output_loss: 0.3488 - department_output_accuracy: 0.6768 - department_output_loss: 0.6997 - loss: 1.0482 - val_attrition_output_accuracy: 0.8281 - val_attrition_output_loss: 0.4310 - val_department_output_accuracy: 0.5882 - val_department_output_loss: 0.8571 - val_loss: 1.2937\n",
      "Epoch 8/100\n",
      "\u001b[1m36/36\u001b[0m \u001b[32m━━━━━━━━━━━━━━━━━━━━\u001b[0m\u001b[37m\u001b[0m \u001b[1m0s\u001b[0m 6ms/step - attrition_output_accuracy: 0.8523 - attrition_output_loss: 0.3496 - department_output_accuracy: 0.6845 - department_output_loss: 0.7167 - loss: 1.0663 - val_attrition_output_accuracy: 0.8326 - val_attrition_output_loss: 0.4332 - val_department_output_accuracy: 0.5928 - val_department_output_loss: 0.8675 - val_loss: 1.3070\n",
      "Epoch 9/100\n",
      "\u001b[1m36/36\u001b[0m \u001b[32m━━━━━━━━━━━━━━━━━━━━\u001b[0m\u001b[37m\u001b[0m \u001b[1m0s\u001b[0m 6ms/step - attrition_output_accuracy: 0.8691 - attrition_output_loss: 0.3233 - department_output_accuracy: 0.6813 - department_output_loss: 0.7112 - loss: 1.0346 - val_attrition_output_accuracy: 0.8462 - val_attrition_output_loss: 0.4097 - val_department_output_accuracy: 0.6063 - val_department_output_loss: 0.8995 - val_loss: 1.3161\n",
      "Epoch 10/100\n",
      "\u001b[1m36/36\u001b[0m \u001b[32m━━━━━━━━━━━━━━━━━━━━\u001b[0m\u001b[37m\u001b[0m \u001b[1m0s\u001b[0m 7ms/step - attrition_output_accuracy: 0.8825 - attrition_output_loss: 0.3126 - department_output_accuracy: 0.7008 - department_output_loss: 0.6710 - loss: 0.9834 - val_attrition_output_accuracy: 0.8462 - val_attrition_output_loss: 0.4098 - val_department_output_accuracy: 0.5928 - val_department_output_loss: 0.9124 - val_loss: 1.3290\n",
      "Epoch 11/100\n",
      "\u001b[1m36/36\u001b[0m \u001b[32m━━━━━━━━━━━━━━━━━━━━\u001b[0m\u001b[37m\u001b[0m \u001b[1m1s\u001b[0m 12ms/step - attrition_output_accuracy: 0.8640 - attrition_output_loss: 0.3279 - department_output_accuracy: 0.7233 - department_output_loss: 0.6322 - loss: 0.9598 - val_attrition_output_accuracy: 0.8462 - val_attrition_output_loss: 0.4219 - val_department_output_accuracy: 0.5837 - val_department_output_loss: 0.8782 - val_loss: 1.3065\n",
      "Epoch 12/100\n",
      "\u001b[1m36/36\u001b[0m \u001b[32m━━━━━━━━━━━━━━━━━━━━\u001b[0m\u001b[37m\u001b[0m \u001b[1m0s\u001b[0m 7ms/step - attrition_output_accuracy: 0.8719 - attrition_output_loss: 0.3244 - department_output_accuracy: 0.7008 - department_output_loss: 0.6400 - loss: 0.9648 - val_attrition_output_accuracy: 0.8326 - val_attrition_output_loss: 0.4380 - val_department_output_accuracy: 0.5792 - val_department_output_loss: 0.8932 - val_loss: 1.3379\n",
      "Epoch 13/100\n",
      "\u001b[1m36/36\u001b[0m \u001b[32m━━━━━━━━━━━━━━━━━━━━\u001b[0m\u001b[37m\u001b[0m \u001b[1m0s\u001b[0m 8ms/step - attrition_output_accuracy: 0.8933 - attrition_output_loss: 0.2869 - department_output_accuracy: 0.7253 - department_output_loss: 0.6192 - loss: 0.9065 - val_attrition_output_accuracy: 0.8416 - val_attrition_output_loss: 0.4084 - val_department_output_accuracy: 0.5928 - val_department_output_loss: 0.9055 - val_loss: 1.3206\n",
      "Epoch 14/100\n",
      "\u001b[1m36/36\u001b[0m \u001b[32m━━━━━━━━━━━━━━━━━━━━\u001b[0m\u001b[37m\u001b[0m \u001b[1m0s\u001b[0m 6ms/step - attrition_output_accuracy: 0.8969 - attrition_output_loss: 0.2858 - department_output_accuracy: 0.6995 - department_output_loss: 0.6244 - loss: 0.9098 - val_attrition_output_accuracy: 0.8507 - val_attrition_output_loss: 0.4148 - val_department_output_accuracy: 0.5611 - val_department_output_loss: 0.9257 - val_loss: 1.3473\n",
      "Epoch 15/100\n",
      "\u001b[1m36/36\u001b[0m \u001b[32m━━━━━━━━━━━━━━━━━━━━\u001b[0m\u001b[37m\u001b[0m \u001b[1m0s\u001b[0m 6ms/step - attrition_output_accuracy: 0.8787 - attrition_output_loss: 0.3268 - department_output_accuracy: 0.7187 - department_output_loss: 0.5998 - loss: 0.9264 - val_attrition_output_accuracy: 0.8326 - val_attrition_output_loss: 0.4170 - val_department_output_accuracy: 0.5928 - val_department_output_loss: 0.9428 - val_loss: 1.3678\n",
      "Epoch 16/100\n",
      "\u001b[1m36/36\u001b[0m \u001b[32m━━━━━━━━━━━━━━━━━━━━\u001b[0m\u001b[37m\u001b[0m \u001b[1m0s\u001b[0m 6ms/step - attrition_output_accuracy: 0.8964 - attrition_output_loss: 0.2925 - department_output_accuracy: 0.7273 - department_output_loss: 0.5942 - loss: 0.8867 - val_attrition_output_accuracy: 0.8416 - val_attrition_output_loss: 0.4275 - val_department_output_accuracy: 0.5792 - val_department_output_loss: 0.9563 - val_loss: 1.3908\n",
      "Epoch 17/100\n",
      "\u001b[1m36/36\u001b[0m \u001b[32m━━━━━━━━━━━━━━━━━━━━\u001b[0m\u001b[37m\u001b[0m \u001b[1m0s\u001b[0m 8ms/step - attrition_output_accuracy: 0.8975 - attrition_output_loss: 0.2735 - department_output_accuracy: 0.7204 - department_output_loss: 0.6093 - loss: 0.8831 - val_attrition_output_accuracy: 0.8416 - val_attrition_output_loss: 0.4127 - val_department_output_accuracy: 0.5385 - val_department_output_loss: 0.9346 - val_loss: 1.3547\n",
      "Epoch 18/100\n",
      "\u001b[1m36/36\u001b[0m \u001b[32m━━━━━━━━━━━━━━━━━━━━\u001b[0m\u001b[37m\u001b[0m \u001b[1m0s\u001b[0m 9ms/step - attrition_output_accuracy: 0.9014 - attrition_output_loss: 0.2814 - department_output_accuracy: 0.7530 - department_output_loss: 0.5761 - loss: 0.8577 - val_attrition_output_accuracy: 0.8462 - val_attrition_output_loss: 0.4176 - val_department_output_accuracy: 0.5837 - val_department_output_loss: 0.9765 - val_loss: 1.4021\n",
      "Epoch 19/100\n",
      "\u001b[1m36/36\u001b[0m \u001b[32m━━━━━━━━━━━━━━━━━━━━\u001b[0m\u001b[37m\u001b[0m \u001b[1m0s\u001b[0m 11ms/step - attrition_output_accuracy: 0.8937 - attrition_output_loss: 0.2826 - department_output_accuracy: 0.7508 - department_output_loss: 0.5483 - loss: 0.8314 - val_attrition_output_accuracy: 0.8462 - val_attrition_output_loss: 0.4306 - val_department_output_accuracy: 0.4932 - val_department_output_loss: 0.9245 - val_loss: 1.3624\n",
      "Epoch 20/100\n",
      "\u001b[1m36/36\u001b[0m \u001b[32m━━━━━━━━━━━━━━━━━━━━\u001b[0m\u001b[37m\u001b[0m \u001b[1m0s\u001b[0m 6ms/step - attrition_output_accuracy: 0.9071 - attrition_output_loss: 0.2719 - department_output_accuracy: 0.7388 - department_output_loss: 0.5798 - loss: 0.8512 - val_attrition_output_accuracy: 0.8507 - val_attrition_output_loss: 0.4341 - val_department_output_accuracy: 0.5249 - val_department_output_loss: 0.9848 - val_loss: 1.4266\n",
      "Epoch 21/100\n",
      "\u001b[1m36/36\u001b[0m \u001b[32m━━━━━━━━━━━━━━━━━━━━\u001b[0m\u001b[37m\u001b[0m \u001b[1m0s\u001b[0m 7ms/step - attrition_output_accuracy: 0.9038 - attrition_output_loss: 0.2760 - department_output_accuracy: 0.7630 - department_output_loss: 0.5234 - loss: 0.7995 - val_attrition_output_accuracy: 0.8507 - val_attrition_output_loss: 0.4303 - val_department_output_accuracy: 0.4977 - val_department_output_loss: 0.9505 - val_loss: 1.3880\n",
      "Epoch 22/100\n",
      "\u001b[1m36/36\u001b[0m \u001b[32m━━━━━━━━━━━━━━━━━━━━\u001b[0m\u001b[37m\u001b[0m \u001b[1m0s\u001b[0m 7ms/step - attrition_output_accuracy: 0.9112 - attrition_output_loss: 0.2687 - department_output_accuracy: 0.7476 - department_output_loss: 0.5538 - loss: 0.8222 - val_attrition_output_accuracy: 0.8597 - val_attrition_output_loss: 0.4286 - val_department_output_accuracy: 0.5158 - val_department_output_loss: 1.0194 - val_loss: 1.4561\n",
      "Epoch 23/100\n",
      "\u001b[1m36/36\u001b[0m \u001b[32m━━━━━━━━━━━━━━━━━━━━\u001b[0m\u001b[37m\u001b[0m \u001b[1m0s\u001b[0m 7ms/step - attrition_output_accuracy: 0.9050 - attrition_output_loss: 0.2577 - department_output_accuracy: 0.7620 - department_output_loss: 0.5366 - loss: 0.7945 - val_attrition_output_accuracy: 0.8462 - val_attrition_output_loss: 0.4389 - val_department_output_accuracy: 0.5249 - val_department_output_loss: 1.0572 - val_loss: 1.5047\n",
      "Epoch 24/100\n",
      "\u001b[1m36/36\u001b[0m \u001b[32m━━━━━━━━━━━━━━━━━━━━\u001b[0m\u001b[37m\u001b[0m \u001b[1m0s\u001b[0m 6ms/step - attrition_output_accuracy: 0.9280 - attrition_output_loss: 0.2288 - department_output_accuracy: 0.7808 - department_output_loss: 0.5063 - loss: 0.7355 - val_attrition_output_accuracy: 0.8643 - val_attrition_output_loss: 0.4377 - val_department_output_accuracy: 0.5204 - val_department_output_loss: 1.0481 - val_loss: 1.4944\n",
      "Epoch 25/100\n",
      "\u001b[1m36/36\u001b[0m \u001b[32m━━━━━━━━━━━━━━━━━━━━\u001b[0m\u001b[37m\u001b[0m \u001b[1m0s\u001b[0m 6ms/step - attrition_output_accuracy: 0.9152 - attrition_output_loss: 0.2354 - department_output_accuracy: 0.8042 - department_output_loss: 0.4729 - loss: 0.7077 - val_attrition_output_accuracy: 0.8507 - val_attrition_output_loss: 0.4901 - val_department_output_accuracy: 0.5430 - val_department_output_loss: 1.0545 - val_loss: 1.5536\n",
      "Epoch 26/100\n",
      "\u001b[1m36/36\u001b[0m \u001b[32m━━━━━━━━━━━━━━━━━━━━\u001b[0m\u001b[37m\u001b[0m \u001b[1m0s\u001b[0m 7ms/step - attrition_output_accuracy: 0.9276 - attrition_output_loss: 0.2190 - department_output_accuracy: 0.7910 - department_output_loss: 0.4926 - loss: 0.7115 - val_attrition_output_accuracy: 0.8462 - val_attrition_output_loss: 0.4708 - val_department_output_accuracy: 0.5158 - val_department_output_loss: 1.0962 - val_loss: 1.5758\n",
      "Epoch 27/100\n",
      "\u001b[1m36/36\u001b[0m \u001b[32m━━━━━━━━━━━━━━━━━━━━\u001b[0m\u001b[37m\u001b[0m \u001b[1m0s\u001b[0m 7ms/step - attrition_output_accuracy: 0.9355 - attrition_output_loss: 0.2064 - department_output_accuracy: 0.7693 - department_output_loss: 0.5082 - loss: 0.7147 - val_attrition_output_accuracy: 0.8552 - val_attrition_output_loss: 0.4595 - val_department_output_accuracy: 0.5611 - val_department_output_loss: 1.1618 - val_loss: 1.6308\n",
      "Epoch 28/100\n",
      "\u001b[1m36/36\u001b[0m \u001b[32m━━━━━━━━━━━━━━━━━━━━\u001b[0m\u001b[37m\u001b[0m \u001b[1m0s\u001b[0m 6ms/step - attrition_output_accuracy: 0.9207 - attrition_output_loss: 0.2151 - department_output_accuracy: 0.7889 - department_output_loss: 0.4714 - loss: 0.6866 - val_attrition_output_accuracy: 0.8507 - val_attrition_output_loss: 0.4640 - val_department_output_accuracy: 0.5023 - val_department_output_loss: 1.0794 - val_loss: 1.5543\n",
      "Epoch 29/100\n",
      "\u001b[1m36/36\u001b[0m \u001b[32m━━━━━━━━━━━━━━━━━━━━\u001b[0m\u001b[37m\u001b[0m \u001b[1m0s\u001b[0m 6ms/step - attrition_output_accuracy: 0.9296 - attrition_output_loss: 0.2104 - department_output_accuracy: 0.8413 - department_output_loss: 0.4333 - loss: 0.6427 - val_attrition_output_accuracy: 0.8416 - val_attrition_output_loss: 0.5012 - val_department_output_accuracy: 0.5249 - val_department_output_loss: 1.0997 - val_loss: 1.6113\n",
      "Epoch 30/100\n",
      "\u001b[1m36/36\u001b[0m \u001b[32m━━━━━━━━━━━━━━━━━━━━\u001b[0m\u001b[37m\u001b[0m \u001b[1m0s\u001b[0m 7ms/step - attrition_output_accuracy: 0.9247 - attrition_output_loss: 0.2086 - department_output_accuracy: 0.8095 - department_output_loss: 0.4516 - loss: 0.6597 - val_attrition_output_accuracy: 0.8054 - val_attrition_output_loss: 0.4721 - val_department_output_accuracy: 0.4932 - val_department_output_loss: 1.0831 - val_loss: 1.5678\n",
      "Epoch 31/100\n",
      "\u001b[1m36/36\u001b[0m \u001b[32m━━━━━━━━━━━━━━━━━━━━\u001b[0m\u001b[37m\u001b[0m \u001b[1m0s\u001b[0m 7ms/step - attrition_output_accuracy: 0.9269 - attrition_output_loss: 0.2093 - department_output_accuracy: 0.8103 - department_output_loss: 0.4476 - loss: 0.6568 - val_attrition_output_accuracy: 0.8416 - val_attrition_output_loss: 0.4684 - val_department_output_accuracy: 0.5385 - val_department_output_loss: 1.1821 - val_loss: 1.6640\n",
      "Epoch 32/100\n",
      "\u001b[1m36/36\u001b[0m \u001b[32m━━━━━━━━━━━━━━━━━━━━\u001b[0m\u001b[37m\u001b[0m \u001b[1m0s\u001b[0m 6ms/step - attrition_output_accuracy: 0.9304 - attrition_output_loss: 0.1795 - department_output_accuracy: 0.8566 - department_output_loss: 0.3890 - loss: 0.5687 - val_attrition_output_accuracy: 0.7964 - val_attrition_output_loss: 0.4837 - val_department_output_accuracy: 0.5068 - val_department_output_loss: 1.1769 - val_loss: 1.6731\n",
      "Epoch 33/100\n",
      "\u001b[1m36/36\u001b[0m \u001b[32m━━━━━━━━━━━━━━━━━━━━\u001b[0m\u001b[37m\u001b[0m \u001b[1m0s\u001b[0m 7ms/step - attrition_output_accuracy: 0.9398 - attrition_output_loss: 0.1940 - department_output_accuracy: 0.8515 - department_output_loss: 0.3557 - loss: 0.5496 - val_attrition_output_accuracy: 0.8371 - val_attrition_output_loss: 0.5014 - val_department_output_accuracy: 0.4796 - val_department_output_loss: 1.1287 - val_loss: 1.6438\n",
      "Epoch 34/100\n",
      "\u001b[1m36/36\u001b[0m \u001b[32m━━━━━━━━━━━━━━━━━━━━\u001b[0m\u001b[37m\u001b[0m \u001b[1m0s\u001b[0m 7ms/step - attrition_output_accuracy: 0.9240 - attrition_output_loss: 0.1894 - department_output_accuracy: 0.8453 - department_output_loss: 0.3752 - loss: 0.5639 - val_attrition_output_accuracy: 0.8416 - val_attrition_output_loss: 0.5618 - val_department_output_accuracy: 0.5158 - val_department_output_loss: 1.1935 - val_loss: 1.7677\n",
      "Epoch 35/100\n",
      "\u001b[1m36/36\u001b[0m \u001b[32m━━━━━━━━━━━━━━━━━━━━\u001b[0m\u001b[37m\u001b[0m \u001b[1m0s\u001b[0m 7ms/step - attrition_output_accuracy: 0.9392 - attrition_output_loss: 0.1701 - department_output_accuracy: 0.8675 - department_output_loss: 0.3672 - loss: 0.5372 - val_attrition_output_accuracy: 0.8281 - val_attrition_output_loss: 0.5267 - val_department_output_accuracy: 0.5249 - val_department_output_loss: 1.1902 - val_loss: 1.7304\n",
      "Epoch 36/100\n",
      "\u001b[1m36/36\u001b[0m \u001b[32m━━━━━━━━━━━━━━━━━━━━\u001b[0m\u001b[37m\u001b[0m \u001b[1m0s\u001b[0m 8ms/step - attrition_output_accuracy: 0.9237 - attrition_output_loss: 0.1841 - department_output_accuracy: 0.8743 - department_output_loss: 0.3462 - loss: 0.5301 - val_attrition_output_accuracy: 0.8326 - val_attrition_output_loss: 0.5624 - val_department_output_accuracy: 0.5249 - val_department_output_loss: 1.2172 - val_loss: 1.7948\n",
      "Epoch 37/100\n",
      "\u001b[1m36/36\u001b[0m \u001b[32m━━━━━━━━━━━━━━━━━━━━\u001b[0m\u001b[37m\u001b[0m \u001b[1m0s\u001b[0m 10ms/step - attrition_output_accuracy: 0.9358 - attrition_output_loss: 0.1775 - department_output_accuracy: 0.9022 - department_output_loss: 0.3080 - loss: 0.4850 - val_attrition_output_accuracy: 0.8281 - val_attrition_output_loss: 0.5602 - val_department_output_accuracy: 0.5294 - val_department_output_loss: 1.2848 - val_loss: 1.8598\n",
      "Epoch 38/100\n",
      "\u001b[1m36/36\u001b[0m \u001b[32m━━━━━━━━━━━━━━━━━━━━\u001b[0m\u001b[37m\u001b[0m \u001b[1m0s\u001b[0m 6ms/step - attrition_output_accuracy: 0.9403 - attrition_output_loss: 0.1710 - department_output_accuracy: 0.8885 - department_output_loss: 0.3211 - loss: 0.4922 - val_attrition_output_accuracy: 0.8281 - val_attrition_output_loss: 0.5213 - val_department_output_accuracy: 0.4751 - val_department_output_loss: 1.2641 - val_loss: 1.8010\n",
      "Epoch 39/100\n",
      "\u001b[1m36/36\u001b[0m \u001b[32m━━━━━━━━━━━━━━━━━━━━\u001b[0m\u001b[37m\u001b[0m \u001b[1m0s\u001b[0m 7ms/step - attrition_output_accuracy: 0.9427 - attrition_output_loss: 0.1604 - department_output_accuracy: 0.8666 - department_output_loss: 0.3290 - loss: 0.4897 - val_attrition_output_accuracy: 0.8235 - val_attrition_output_loss: 0.5277 - val_department_output_accuracy: 0.4615 - val_department_output_loss: 1.3393 - val_loss: 1.8831\n",
      "Epoch 40/100\n",
      "\u001b[1m36/36\u001b[0m \u001b[32m━━━━━━━━━━━━━━━━━━━━\u001b[0m\u001b[37m\u001b[0m \u001b[1m0s\u001b[0m 7ms/step - attrition_output_accuracy: 0.9521 - attrition_output_loss: 0.1547 - department_output_accuracy: 0.8709 - department_output_loss: 0.3328 - loss: 0.4873 - val_attrition_output_accuracy: 0.8235 - val_attrition_output_loss: 0.5782 - val_department_output_accuracy: 0.4842 - val_department_output_loss: 1.2984 - val_loss: 1.8931\n",
      "Epoch 41/100\n",
      "\u001b[1m36/36\u001b[0m \u001b[32m━━━━━━━━━━━━━━━━━━━━\u001b[0m\u001b[37m\u001b[0m \u001b[1m0s\u001b[0m 7ms/step - attrition_output_accuracy: 0.9499 - attrition_output_loss: 0.1452 - department_output_accuracy: 0.8862 - department_output_loss: 0.2998 - loss: 0.4448 - val_attrition_output_accuracy: 0.8009 - val_attrition_output_loss: 0.5567 - val_department_output_accuracy: 0.5339 - val_department_output_loss: 1.3497 - val_loss: 1.9247\n",
      "Epoch 42/100\n",
      "\u001b[1m36/36\u001b[0m \u001b[32m━━━━━━━━━━━━━━━━━━━━\u001b[0m\u001b[37m\u001b[0m \u001b[1m0s\u001b[0m 9ms/step - attrition_output_accuracy: 0.9392 - attrition_output_loss: 0.1564 - department_output_accuracy: 0.8893 - department_output_loss: 0.2954 - loss: 0.4520 - val_attrition_output_accuracy: 0.8371 - val_attrition_output_loss: 0.6456 - val_department_output_accuracy: 0.5023 - val_department_output_loss: 1.3738 - val_loss: 2.0374\n",
      "Epoch 43/100\n",
      "\u001b[1m36/36\u001b[0m \u001b[32m━━━━━━━━━━━━━━━━━━━━\u001b[0m\u001b[37m\u001b[0m \u001b[1m1s\u001b[0m 10ms/step - attrition_output_accuracy: 0.9336 - attrition_output_loss: 0.1640 - department_output_accuracy: 0.9039 - department_output_loss: 0.2741 - loss: 0.4382 - val_attrition_output_accuracy: 0.8235 - val_attrition_output_loss: 0.5802 - val_department_output_accuracy: 0.5204 - val_department_output_loss: 1.4995 - val_loss: 2.0965\n",
      "Epoch 44/100\n",
      "\u001b[1m36/36\u001b[0m \u001b[32m━━━━━━━━━━━━━━━━━━━━\u001b[0m\u001b[37m\u001b[0m \u001b[1m0s\u001b[0m 7ms/step - attrition_output_accuracy: 0.9537 - attrition_output_loss: 0.1381 - department_output_accuracy: 0.9136 - department_output_loss: 0.2711 - loss: 0.4093 - val_attrition_output_accuracy: 0.8235 - val_attrition_output_loss: 0.5794 - val_department_output_accuracy: 0.5068 - val_department_output_loss: 1.5127 - val_loss: 2.1094\n",
      "Epoch 45/100\n",
      "\u001b[1m36/36\u001b[0m \u001b[32m━━━━━━━━━━━━━━━━━━━━\u001b[0m\u001b[37m\u001b[0m \u001b[1m1s\u001b[0m 7ms/step - attrition_output_accuracy: 0.9496 - attrition_output_loss: 0.1265 - department_output_accuracy: 0.9304 - department_output_loss: 0.2335 - loss: 0.3598 - val_attrition_output_accuracy: 0.8235 - val_attrition_output_loss: 0.6280 - val_department_output_accuracy: 0.5249 - val_department_output_loss: 1.5071 - val_loss: 2.1538\n",
      "Epoch 46/100\n",
      "\u001b[1m36/36\u001b[0m \u001b[32m━━━━━━━━━━━━━━━━━━━━\u001b[0m\u001b[37m\u001b[0m \u001b[1m0s\u001b[0m 6ms/step - attrition_output_accuracy: 0.9572 - attrition_output_loss: 0.1299 - department_output_accuracy: 0.9196 - department_output_loss: 0.2349 - loss: 0.3648 - val_attrition_output_accuracy: 0.8281 - val_attrition_output_loss: 0.6156 - val_department_output_accuracy: 0.5158 - val_department_output_loss: 1.5443 - val_loss: 2.1808\n",
      "Epoch 47/100\n",
      "\u001b[1m36/36\u001b[0m \u001b[32m━━━━━━━━━━━━━━━━━━━━\u001b[0m\u001b[37m\u001b[0m \u001b[1m0s\u001b[0m 7ms/step - attrition_output_accuracy: 0.9544 - attrition_output_loss: 0.1258 - department_output_accuracy: 0.9060 - department_output_loss: 0.2453 - loss: 0.3712 - val_attrition_output_accuracy: 0.8326 - val_attrition_output_loss: 0.6241 - val_department_output_accuracy: 0.5339 - val_department_output_loss: 1.5006 - val_loss: 2.1437\n",
      "Epoch 48/100\n",
      "\u001b[1m36/36\u001b[0m \u001b[32m━━━━━━━━━━━━━━━━━━━━\u001b[0m\u001b[37m\u001b[0m \u001b[1m0s\u001b[0m 6ms/step - attrition_output_accuracy: 0.9671 - attrition_output_loss: 0.1011 - department_output_accuracy: 0.9528 - department_output_loss: 0.1967 - loss: 0.2979 - val_attrition_output_accuracy: 0.8190 - val_attrition_output_loss: 0.6529 - val_department_output_accuracy: 0.5068 - val_department_output_loss: 1.5479 - val_loss: 2.2196\n",
      "Epoch 49/100\n",
      "\u001b[1m36/36\u001b[0m \u001b[32m━━━━━━━━━━━━━━━━━━━━\u001b[0m\u001b[37m\u001b[0m \u001b[1m0s\u001b[0m 6ms/step - attrition_output_accuracy: 0.9449 - attrition_output_loss: 0.1336 - department_output_accuracy: 0.9278 - department_output_loss: 0.2166 - loss: 0.3500 - val_attrition_output_accuracy: 0.8190 - val_attrition_output_loss: 0.6487 - val_department_output_accuracy: 0.5294 - val_department_output_loss: 1.5714 - val_loss: 2.2401\n",
      "Epoch 50/100\n",
      "\u001b[1m36/36\u001b[0m \u001b[32m━━━━━━━━━━━━━━━━━━━━\u001b[0m\u001b[37m\u001b[0m \u001b[1m0s\u001b[0m 7ms/step - attrition_output_accuracy: 0.9760 - attrition_output_loss: 0.0993 - department_output_accuracy: 0.9546 - department_output_loss: 0.1857 - loss: 0.2851 - val_attrition_output_accuracy: 0.8145 - val_attrition_output_loss: 0.6318 - val_department_output_accuracy: 0.5023 - val_department_output_loss: 1.6481 - val_loss: 2.3005\n",
      "Epoch 51/100\n",
      "\u001b[1m36/36\u001b[0m \u001b[32m━━━━━━━━━━━━━━━━━━━━\u001b[0m\u001b[37m\u001b[0m \u001b[1m0s\u001b[0m 7ms/step - attrition_output_accuracy: 0.9712 - attrition_output_loss: 0.0989 - department_output_accuracy: 0.9510 - department_output_loss: 0.2011 - loss: 0.2999 - val_attrition_output_accuracy: 0.8100 - val_attrition_output_loss: 0.6561 - val_department_output_accuracy: 0.5204 - val_department_output_loss: 1.6846 - val_loss: 2.3608\n",
      "Epoch 52/100\n",
      "\u001b[1m36/36\u001b[0m \u001b[32m━━━━━━━━━━━━━━━━━━━━\u001b[0m\u001b[37m\u001b[0m \u001b[1m0s\u001b[0m 7ms/step - attrition_output_accuracy: 0.9686 - attrition_output_loss: 0.1093 - department_output_accuracy: 0.9472 - department_output_loss: 0.1776 - loss: 0.2870 - val_attrition_output_accuracy: 0.8235 - val_attrition_output_loss: 0.7301 - val_department_output_accuracy: 0.5158 - val_department_output_loss: 1.7084 - val_loss: 2.4613\n",
      "Epoch 53/100\n",
      "\u001b[1m36/36\u001b[0m \u001b[32m━━━━━━━━━━━━━━━━━━━━\u001b[0m\u001b[37m\u001b[0m \u001b[1m0s\u001b[0m 10ms/step - attrition_output_accuracy: 0.9586 - attrition_output_loss: 0.1181 - department_output_accuracy: 0.9574 - department_output_loss: 0.1668 - loss: 0.2850 - val_attrition_output_accuracy: 0.8235 - val_attrition_output_loss: 0.7049 - val_department_output_accuracy: 0.4932 - val_department_output_loss: 1.6831 - val_loss: 2.4123\n",
      "Epoch 54/100\n",
      "\u001b[1m36/36\u001b[0m \u001b[32m━━━━━━━━━━━━━━━━━━━━\u001b[0m\u001b[37m\u001b[0m \u001b[1m0s\u001b[0m 9ms/step - attrition_output_accuracy: 0.9706 - attrition_output_loss: 0.0841 - department_output_accuracy: 0.9533 - department_output_loss: 0.1649 - loss: 0.2490 - val_attrition_output_accuracy: 0.8235 - val_attrition_output_loss: 0.6790 - val_department_output_accuracy: 0.5113 - val_department_output_loss: 1.7267 - val_loss: 2.4279\n",
      "Epoch 55/100\n",
      "\u001b[1m36/36\u001b[0m \u001b[32m━━━━━━━━━━━━━━━━━━━━\u001b[0m\u001b[37m\u001b[0m \u001b[1m0s\u001b[0m 6ms/step - attrition_output_accuracy: 0.9822 - attrition_output_loss: 0.0813 - department_output_accuracy: 0.9686 - department_output_loss: 0.1582 - loss: 0.2397 - val_attrition_output_accuracy: 0.7738 - val_attrition_output_loss: 0.6942 - val_department_output_accuracy: 0.4932 - val_department_output_loss: 1.7821 - val_loss: 2.5030\n",
      "Epoch 56/100\n",
      "\u001b[1m36/36\u001b[0m \u001b[32m━━━━━━━━━━━━━━━━━━━━\u001b[0m\u001b[37m\u001b[0m \u001b[1m0s\u001b[0m 7ms/step - attrition_output_accuracy: 0.9514 - attrition_output_loss: 0.1255 - department_output_accuracy: 0.9604 - department_output_loss: 0.1533 - loss: 0.2788 - val_attrition_output_accuracy: 0.8281 - val_attrition_output_loss: 0.7858 - val_department_output_accuracy: 0.5113 - val_department_output_loss: 1.7678 - val_loss: 2.5769\n",
      "Epoch 57/100\n",
      "\u001b[1m36/36\u001b[0m \u001b[32m━━━━━━━━━━━━━━━━━━━━\u001b[0m\u001b[37m\u001b[0m \u001b[1m0s\u001b[0m 7ms/step - attrition_output_accuracy: 0.9656 - attrition_output_loss: 0.0839 - department_output_accuracy: 0.9402 - department_output_loss: 0.1743 - loss: 0.2580 - val_attrition_output_accuracy: 0.8145 - val_attrition_output_loss: 0.7222 - val_department_output_accuracy: 0.4932 - val_department_output_loss: 1.8130 - val_loss: 2.5592\n",
      "Epoch 58/100\n",
      "\u001b[1m36/36\u001b[0m \u001b[32m━━━━━━━━━━━━━━━━━━━━\u001b[0m\u001b[37m\u001b[0m \u001b[1m0s\u001b[0m 7ms/step - attrition_output_accuracy: 0.9607 - attrition_output_loss: 0.1095 - department_output_accuracy: 0.9716 - department_output_loss: 0.1354 - loss: 0.2450 - val_attrition_output_accuracy: 0.8281 - val_attrition_output_loss: 0.8261 - val_department_output_accuracy: 0.5158 - val_department_output_loss: 1.8523 - val_loss: 2.7028\n",
      "Epoch 59/100\n",
      "\u001b[1m36/36\u001b[0m \u001b[32m━━━━━━━━━━━━━━━━━━━━\u001b[0m\u001b[37m\u001b[0m \u001b[1m0s\u001b[0m 6ms/step - attrition_output_accuracy: 0.9727 - attrition_output_loss: 0.0946 - department_output_accuracy: 0.9816 - department_output_loss: 0.1240 - loss: 0.2187 - val_attrition_output_accuracy: 0.8100 - val_attrition_output_loss: 0.7676 - val_department_output_accuracy: 0.4842 - val_department_output_loss: 1.9470 - val_loss: 2.7414\n",
      "Epoch 60/100\n",
      "\u001b[1m36/36\u001b[0m \u001b[32m━━━━━━━━━━━━━━━━━━━━\u001b[0m\u001b[37m\u001b[0m \u001b[1m0s\u001b[0m 7ms/step - attrition_output_accuracy: 0.9665 - attrition_output_loss: 0.0991 - department_output_accuracy: 0.9780 - department_output_loss: 0.1152 - loss: 0.2142 - val_attrition_output_accuracy: 0.8235 - val_attrition_output_loss: 0.7852 - val_department_output_accuracy: 0.5068 - val_department_output_loss: 2.0883 - val_loss: 2.9006\n",
      "Epoch 61/100\n",
      "\u001b[1m36/36\u001b[0m \u001b[32m━━━━━━━━━━━━━━━━━━━━\u001b[0m\u001b[37m\u001b[0m \u001b[1m0s\u001b[0m 6ms/step - attrition_output_accuracy: 0.9741 - attrition_output_loss: 0.0683 - department_output_accuracy: 0.9752 - department_output_loss: 0.1165 - loss: 0.1846 - val_attrition_output_accuracy: 0.8145 - val_attrition_output_loss: 0.7698 - val_department_output_accuracy: 0.5204 - val_department_output_loss: 2.0339 - val_loss: 2.8323\n",
      "Epoch 62/100\n",
      "\u001b[1m36/36\u001b[0m \u001b[32m━━━━━━━━━━━━━━━━━━━━\u001b[0m\u001b[37m\u001b[0m \u001b[1m0s\u001b[0m 7ms/step - attrition_output_accuracy: 0.9789 - attrition_output_loss: 0.0739 - department_output_accuracy: 0.9640 - department_output_loss: 0.1279 - loss: 0.2019 - val_attrition_output_accuracy: 0.8326 - val_attrition_output_loss: 0.8565 - val_department_output_accuracy: 0.5113 - val_department_output_loss: 2.1041 - val_loss: 2.9896\n",
      "Epoch 63/100\n",
      "\u001b[1m36/36\u001b[0m \u001b[32m━━━━━━━━━━━━━━━━━━━━\u001b[0m\u001b[37m\u001b[0m \u001b[1m0s\u001b[0m 7ms/step - attrition_output_accuracy: 0.9755 - attrition_output_loss: 0.0849 - department_output_accuracy: 0.9663 - department_output_loss: 0.1252 - loss: 0.2102 - val_attrition_output_accuracy: 0.8281 - val_attrition_output_loss: 0.8544 - val_department_output_accuracy: 0.5068 - val_department_output_loss: 2.1238 - val_loss: 3.0070\n",
      "Epoch 64/100\n",
      "\u001b[1m36/36\u001b[0m \u001b[32m━━━━━━━━━━━━━━━━━━━━\u001b[0m\u001b[37m\u001b[0m \u001b[1m0s\u001b[0m 7ms/step - attrition_output_accuracy: 0.9715 - attrition_output_loss: 0.0783 - department_output_accuracy: 0.9760 - department_output_loss: 0.1053 - loss: 0.1838 - val_attrition_output_accuracy: 0.7692 - val_attrition_output_loss: 0.7903 - val_department_output_accuracy: 0.5158 - val_department_output_loss: 2.3600 - val_loss: 3.1781\n",
      "Epoch 65/100\n",
      "\u001b[1m36/36\u001b[0m \u001b[32m━━━━━━━━━━━━━━━━━━━━\u001b[0m\u001b[37m\u001b[0m \u001b[1m0s\u001b[0m 7ms/step - attrition_output_accuracy: 0.9729 - attrition_output_loss: 0.0778 - department_output_accuracy: 0.9694 - department_output_loss: 0.1247 - loss: 0.2025 - val_attrition_output_accuracy: 0.8145 - val_attrition_output_loss: 0.8836 - val_department_output_accuracy: 0.5113 - val_department_output_loss: 2.1448 - val_loss: 3.0576\n",
      "Epoch 66/100\n",
      "\u001b[1m36/36\u001b[0m \u001b[32m━━━━━━━━━━━━━━━━━━━━\u001b[0m\u001b[37m\u001b[0m \u001b[1m0s\u001b[0m 6ms/step - attrition_output_accuracy: 0.9765 - attrition_output_loss: 0.0803 - department_output_accuracy: 0.9872 - department_output_loss: 0.0892 - loss: 0.1694 - val_attrition_output_accuracy: 0.8235 - val_attrition_output_loss: 0.8599 - val_department_output_accuracy: 0.4842 - val_department_output_loss: 2.1802 - val_loss: 3.0710\n",
      "Epoch 67/100\n",
      "\u001b[1m36/36\u001b[0m \u001b[32m━━━━━━━━━━━━━━━━━━━━\u001b[0m\u001b[37m\u001b[0m \u001b[1m0s\u001b[0m 7ms/step - attrition_output_accuracy: 0.9908 - attrition_output_loss: 0.0583 - department_output_accuracy: 0.9856 - department_output_loss: 0.0840 - loss: 0.1424 - val_attrition_output_accuracy: 0.8326 - val_attrition_output_loss: 0.8703 - val_department_output_accuracy: 0.5068 - val_department_output_loss: 2.3881 - val_loss: 3.2888\n",
      "Epoch 68/100\n",
      "\u001b[1m36/36\u001b[0m \u001b[32m━━━━━━━━━━━━━━━━━━━━\u001b[0m\u001b[37m\u001b[0m \u001b[1m0s\u001b[0m 9ms/step - attrition_output_accuracy: 0.9831 - attrition_output_loss: 0.0629 - department_output_accuracy: 0.9927 - department_output_loss: 0.0907 - loss: 0.1537 - val_attrition_output_accuracy: 0.8100 - val_attrition_output_loss: 0.8621 - val_department_output_accuracy: 0.5023 - val_department_output_loss: 2.3607 - val_loss: 3.2532\n",
      "Epoch 69/100\n",
      "\u001b[1m36/36\u001b[0m \u001b[32m━━━━━━━━━━━━━━━━━━━━\u001b[0m\u001b[37m\u001b[0m \u001b[1m0s\u001b[0m 8ms/step - attrition_output_accuracy: 0.9920 - attrition_output_loss: 0.0481 - department_output_accuracy: 0.9906 - department_output_loss: 0.0707 - loss: 0.1190 - val_attrition_output_accuracy: 0.8235 - val_attrition_output_loss: 0.9746 - val_department_output_accuracy: 0.5294 - val_department_output_loss: 2.3703 - val_loss: 3.3770\n",
      "Epoch 70/100\n",
      "\u001b[1m36/36\u001b[0m \u001b[32m━━━━━━━━━━━━━━━━━━━━\u001b[0m\u001b[37m\u001b[0m \u001b[1m0s\u001b[0m 8ms/step - attrition_output_accuracy: 0.9865 - attrition_output_loss: 0.0495 - department_output_accuracy: 0.9915 - department_output_loss: 0.0726 - loss: 0.1221 - val_attrition_output_accuracy: 0.8235 - val_attrition_output_loss: 0.9419 - val_department_output_accuracy: 0.5158 - val_department_output_loss: 2.3957 - val_loss: 3.3674\n",
      "Epoch 71/100\n",
      "\u001b[1m36/36\u001b[0m \u001b[32m━━━━━━━━━━━━━━━━━━━━\u001b[0m\u001b[37m\u001b[0m \u001b[1m0s\u001b[0m 6ms/step - attrition_output_accuracy: 0.9875 - attrition_output_loss: 0.0464 - department_output_accuracy: 0.9992 - department_output_loss: 0.0632 - loss: 0.1096 - val_attrition_output_accuracy: 0.8054 - val_attrition_output_loss: 0.9135 - val_department_output_accuracy: 0.4751 - val_department_output_loss: 2.3813 - val_loss: 3.3265\n",
      "Epoch 72/100\n",
      "\u001b[1m36/36\u001b[0m \u001b[32m━━━━━━━━━━━━━━━━━━━━\u001b[0m\u001b[37m\u001b[0m \u001b[1m0s\u001b[0m 7ms/step - attrition_output_accuracy: 0.9879 - attrition_output_loss: 0.0431 - department_output_accuracy: 0.9942 - department_output_loss: 0.0730 - loss: 0.1162 - val_attrition_output_accuracy: 0.8190 - val_attrition_output_loss: 0.9513 - val_department_output_accuracy: 0.4842 - val_department_output_loss: 2.3533 - val_loss: 3.3378\n",
      "Epoch 73/100\n",
      "\u001b[1m36/36\u001b[0m \u001b[32m━━━━━━━━━━━━━━━━━━━━\u001b[0m\u001b[37m\u001b[0m \u001b[1m0s\u001b[0m 7ms/step - attrition_output_accuracy: 0.9909 - attrition_output_loss: 0.0458 - department_output_accuracy: 0.9970 - department_output_loss: 0.0633 - loss: 0.1090 - val_attrition_output_accuracy: 0.8235 - val_attrition_output_loss: 1.0059 - val_department_output_accuracy: 0.4615 - val_department_output_loss: 2.4607 - val_loss: 3.4996\n",
      "Epoch 74/100\n",
      "\u001b[1m36/36\u001b[0m \u001b[32m━━━━━━━━━━━━━━━━━━━━\u001b[0m\u001b[37m\u001b[0m \u001b[1m0s\u001b[0m 6ms/step - attrition_output_accuracy: 0.9827 - attrition_output_loss: 0.0512 - department_output_accuracy: 0.9911 - department_output_loss: 0.0691 - loss: 0.1200 - val_attrition_output_accuracy: 0.8009 - val_attrition_output_loss: 0.9567 - val_department_output_accuracy: 0.5158 - val_department_output_loss: 2.6128 - val_loss: 3.5995\n",
      "Epoch 75/100\n",
      "\u001b[1m36/36\u001b[0m \u001b[32m━━━━━━━━━━━━━━━━━━━━\u001b[0m\u001b[37m\u001b[0m \u001b[1m0s\u001b[0m 6ms/step - attrition_output_accuracy: 0.9891 - attrition_output_loss: 0.0436 - department_output_accuracy: 0.9752 - department_output_loss: 0.0888 - loss: 0.1324 - val_attrition_output_accuracy: 0.8145 - val_attrition_output_loss: 1.0331 - val_department_output_accuracy: 0.5385 - val_department_output_loss: 2.6570 - val_loss: 3.7248\n",
      "Epoch 76/100\n",
      "\u001b[1m36/36\u001b[0m \u001b[32m━━━━━━━━━━━━━━━━━━━━\u001b[0m\u001b[37m\u001b[0m \u001b[1m0s\u001b[0m 6ms/step - attrition_output_accuracy: 0.9921 - attrition_output_loss: 0.0363 - department_output_accuracy: 0.9937 - department_output_loss: 0.0673 - loss: 0.1033 - val_attrition_output_accuracy: 0.8009 - val_attrition_output_loss: 0.9547 - val_department_output_accuracy: 0.4842 - val_department_output_loss: 2.6389 - val_loss: 3.6269\n",
      "Epoch 77/100\n",
      "\u001b[1m36/36\u001b[0m \u001b[32m━━━━━━━━━━━━━━━━━━━━\u001b[0m\u001b[37m\u001b[0m \u001b[1m0s\u001b[0m 7ms/step - attrition_output_accuracy: 0.9916 - attrition_output_loss: 0.0474 - department_output_accuracy: 0.9893 - department_output_loss: 0.0690 - loss: 0.1165 - val_attrition_output_accuracy: 0.8326 - val_attrition_output_loss: 1.0302 - val_department_output_accuracy: 0.5068 - val_department_output_loss: 2.5705 - val_loss: 3.6341\n",
      "Epoch 78/100\n",
      "\u001b[1m36/36\u001b[0m \u001b[32m━━━━━━━━━━━━━━━━━━━━\u001b[0m\u001b[37m\u001b[0m \u001b[1m0s\u001b[0m 7ms/step - attrition_output_accuracy: 0.9944 - attrition_output_loss: 0.0386 - department_output_accuracy: 0.9973 - department_output_loss: 0.0628 - loss: 0.1015 - val_attrition_output_accuracy: 0.8054 - val_attrition_output_loss: 1.0076 - val_department_output_accuracy: 0.5023 - val_department_output_loss: 2.6956 - val_loss: 3.7353\n",
      "Epoch 79/100\n",
      "\u001b[1m36/36\u001b[0m \u001b[32m━━━━━━━━━━━━━━━━━━━━\u001b[0m\u001b[37m\u001b[0m \u001b[1m0s\u001b[0m 10ms/step - attrition_output_accuracy: 0.9981 - attrition_output_loss: 0.0258 - department_output_accuracy: 0.9955 - department_output_loss: 0.0442 - loss: 0.0699 - val_attrition_output_accuracy: 0.8145 - val_attrition_output_loss: 1.0171 - val_department_output_accuracy: 0.4751 - val_department_output_loss: 2.6308 - val_loss: 3.6813\n",
      "Epoch 80/100\n",
      "\u001b[1m36/36\u001b[0m \u001b[32m━━━━━━━━━━━━━━━━━━━━\u001b[0m\u001b[37m\u001b[0m \u001b[1m1s\u001b[0m 7ms/step - attrition_output_accuracy: 0.9968 - attrition_output_loss: 0.0251 - department_output_accuracy: 0.9904 - department_output_loss: 0.0595 - loss: 0.0843 - val_attrition_output_accuracy: 0.8145 - val_attrition_output_loss: 1.0206 - val_department_output_accuracy: 0.5068 - val_department_output_loss: 2.8580 - val_loss: 3.9093\n",
      "Epoch 81/100\n",
      "\u001b[1m36/36\u001b[0m \u001b[32m━━━━━━━━━━━━━━━━━━━━\u001b[0m\u001b[37m\u001b[0m \u001b[1m0s\u001b[0m 7ms/step - attrition_output_accuracy: 0.9959 - attrition_output_loss: 0.0345 - department_output_accuracy: 0.9927 - department_output_loss: 0.0547 - loss: 0.0894 - val_attrition_output_accuracy: 0.8281 - val_attrition_output_loss: 1.1233 - val_department_output_accuracy: 0.5204 - val_department_output_loss: 2.8723 - val_loss: 4.0315\n",
      "Epoch 82/100\n",
      "\u001b[1m36/36\u001b[0m \u001b[32m━━━━━━━━━━━━━━━━━━━━\u001b[0m\u001b[37m\u001b[0m \u001b[1m0s\u001b[0m 6ms/step - attrition_output_accuracy: 0.9928 - attrition_output_loss: 0.0357 - department_output_accuracy: 0.9899 - department_output_loss: 0.0628 - loss: 0.0985 - val_attrition_output_accuracy: 0.8054 - val_attrition_output_loss: 1.0799 - val_department_output_accuracy: 0.4842 - val_department_output_loss: 2.7574 - val_loss: 3.8746\n",
      "Epoch 83/100\n",
      "\u001b[1m36/36\u001b[0m \u001b[32m━━━━━━━━━━━━━━━━━━━━\u001b[0m\u001b[37m\u001b[0m \u001b[1m0s\u001b[0m 7ms/step - attrition_output_accuracy: 0.9968 - attrition_output_loss: 0.0364 - department_output_accuracy: 0.9902 - department_output_loss: 0.0597 - loss: 0.0961 - val_attrition_output_accuracy: 0.8145 - val_attrition_output_loss: 1.0662 - val_department_output_accuracy: 0.4932 - val_department_output_loss: 2.9981 - val_loss: 4.0994\n",
      "Epoch 84/100\n",
      "\u001b[1m36/36\u001b[0m \u001b[32m━━━━━━━━━━━━━━━━━━━━\u001b[0m\u001b[37m\u001b[0m \u001b[1m0s\u001b[0m 7ms/step - attrition_output_accuracy: 0.9927 - attrition_output_loss: 0.0246 - department_output_accuracy: 0.9926 - department_output_loss: 0.0458 - loss: 0.0704 - val_attrition_output_accuracy: 0.8145 - val_attrition_output_loss: 1.0926 - val_department_output_accuracy: 0.5023 - val_department_output_loss: 2.8648 - val_loss: 3.9939\n",
      "Epoch 85/100\n",
      "\u001b[1m36/36\u001b[0m \u001b[32m━━━━━━━━━━━━━━━━━━━━\u001b[0m\u001b[37m\u001b[0m \u001b[1m0s\u001b[0m 6ms/step - attrition_output_accuracy: 0.9948 - attrition_output_loss: 0.0284 - department_output_accuracy: 0.9989 - department_output_loss: 0.0286 - loss: 0.0570 - val_attrition_output_accuracy: 0.8100 - val_attrition_output_loss: 1.1147 - val_department_output_accuracy: 0.4977 - val_department_output_loss: 2.9170 - val_loss: 4.0686\n",
      "Epoch 86/100\n",
      "\u001b[1m36/36\u001b[0m \u001b[32m━━━━━━━━━━━━━━━━━━━━\u001b[0m\u001b[37m\u001b[0m \u001b[1m0s\u001b[0m 10ms/step - attrition_output_accuracy: 0.9970 - attrition_output_loss: 0.0232 - department_output_accuracy: 0.9979 - department_output_loss: 0.0294 - loss: 0.0526 - val_attrition_output_accuracy: 0.8100 - val_attrition_output_loss: 1.0999 - val_department_output_accuracy: 0.4570 - val_department_output_loss: 2.8438 - val_loss: 3.9824\n",
      "Epoch 87/100\n",
      "\u001b[1m36/36\u001b[0m \u001b[32m━━━━━━━━━━━━━━━━━━━━\u001b[0m\u001b[37m\u001b[0m \u001b[1m1s\u001b[0m 7ms/step - attrition_output_accuracy: 0.9934 - attrition_output_loss: 0.0265 - department_output_accuracy: 1.0000 - department_output_loss: 0.0311 - loss: 0.0576 - val_attrition_output_accuracy: 0.7828 - val_attrition_output_loss: 1.0961 - val_department_output_accuracy: 0.5068 - val_department_output_loss: 2.9664 - val_loss: 4.0991\n",
      "Epoch 88/100\n",
      "\u001b[1m36/36\u001b[0m \u001b[32m━━━━━━━━━━━━━━━━━━━━\u001b[0m\u001b[37m\u001b[0m \u001b[1m0s\u001b[0m 7ms/step - attrition_output_accuracy: 0.9943 - attrition_output_loss: 0.0269 - department_output_accuracy: 0.9999 - department_output_loss: 0.0271 - loss: 0.0540 - val_attrition_output_accuracy: 0.7873 - val_attrition_output_loss: 1.0608 - val_department_output_accuracy: 0.5068 - val_department_output_loss: 3.0236 - val_loss: 4.1229\n",
      "Epoch 89/100\n",
      "\u001b[1m36/36\u001b[0m \u001b[32m━━━━━━━━━━━━━━━━━━━━\u001b[0m\u001b[37m\u001b[0m \u001b[1m0s\u001b[0m 7ms/step - attrition_output_accuracy: 0.9944 - attrition_output_loss: 0.0351 - department_output_accuracy: 0.9968 - department_output_loss: 0.0297 - loss: 0.0649 - val_attrition_output_accuracy: 0.8009 - val_attrition_output_loss: 1.0978 - val_department_output_accuracy: 0.4842 - val_department_output_loss: 2.9195 - val_loss: 4.0556\n",
      "Epoch 90/100\n",
      "\u001b[1m36/36\u001b[0m \u001b[32m━━━━━━━━━━━━━━━━━━━━\u001b[0m\u001b[37m\u001b[0m \u001b[1m0s\u001b[0m 6ms/step - attrition_output_accuracy: 0.9913 - attrition_output_loss: 0.0304 - department_output_accuracy: 0.9930 - department_output_loss: 0.0364 - loss: 0.0668 - val_attrition_output_accuracy: 0.8054 - val_attrition_output_loss: 1.1296 - val_department_output_accuracy: 0.4887 - val_department_output_loss: 2.9995 - val_loss: 4.1652\n",
      "Epoch 91/100\n",
      "\u001b[1m36/36\u001b[0m \u001b[32m━━━━━━━━━━━━━━━━━━━━\u001b[0m\u001b[37m\u001b[0m \u001b[1m0s\u001b[0m 7ms/step - attrition_output_accuracy: 0.9899 - attrition_output_loss: 0.0247 - department_output_accuracy: 0.9999 - department_output_loss: 0.0269 - loss: 0.0516 - val_attrition_output_accuracy: 0.8100 - val_attrition_output_loss: 1.2080 - val_department_output_accuracy: 0.4706 - val_department_output_loss: 3.0097 - val_loss: 4.2556\n",
      "Epoch 92/100\n",
      "\u001b[1m36/36\u001b[0m \u001b[32m━━━━━━━━━━━━━━━━━━━━\u001b[0m\u001b[37m\u001b[0m \u001b[1m0s\u001b[0m 6ms/step - attrition_output_accuracy: 0.9944 - attrition_output_loss: 0.0207 - department_output_accuracy: 0.9978 - department_output_loss: 0.0278 - loss: 0.0484 - val_attrition_output_accuracy: 0.8054 - val_attrition_output_loss: 1.1720 - val_department_output_accuracy: 0.4842 - val_department_output_loss: 3.1005 - val_loss: 4.3083\n",
      "Epoch 93/100\n",
      "\u001b[1m36/36\u001b[0m \u001b[32m━━━━━━━━━━━━━━━━━━━━\u001b[0m\u001b[37m\u001b[0m \u001b[1m0s\u001b[0m 6ms/step - attrition_output_accuracy: 0.9975 - attrition_output_loss: 0.0165 - department_output_accuracy: 1.0000 - department_output_loss: 0.0230 - loss: 0.0394 - val_attrition_output_accuracy: 0.8190 - val_attrition_output_loss: 1.2448 - val_department_output_accuracy: 0.4887 - val_department_output_loss: 3.1134 - val_loss: 4.3970\n",
      "Epoch 94/100\n",
      "\u001b[1m36/36\u001b[0m \u001b[32m━━━━━━━━━━━━━━━━━━━━\u001b[0m\u001b[37m\u001b[0m \u001b[1m0s\u001b[0m 6ms/step - attrition_output_accuracy: 0.9956 - attrition_output_loss: 0.0191 - department_output_accuracy: 0.9882 - department_output_loss: 0.0358 - loss: 0.0549 - val_attrition_output_accuracy: 0.8009 - val_attrition_output_loss: 1.1951 - val_department_output_accuracy: 0.5023 - val_department_output_loss: 3.2958 - val_loss: 4.5339\n",
      "Epoch 95/100\n",
      "\u001b[1m36/36\u001b[0m \u001b[32m━━━━━━━━━━━━━━━━━━━━\u001b[0m\u001b[37m\u001b[0m \u001b[1m0s\u001b[0m 5ms/step - attrition_output_accuracy: 0.9972 - attrition_output_loss: 0.0201 - department_output_accuracy: 0.9858 - department_output_loss: 0.0516 - loss: 0.0717 - val_attrition_output_accuracy: 0.8100 - val_attrition_output_loss: 1.2017 - val_department_output_accuracy: 0.4796 - val_department_output_loss: 3.0731 - val_loss: 4.3180\n",
      "Epoch 96/100\n",
      "\u001b[1m36/36\u001b[0m \u001b[32m━━━━━━━━━━━━━━━━━━━━\u001b[0m\u001b[37m\u001b[0m \u001b[1m0s\u001b[0m 9ms/step - attrition_output_accuracy: 0.9958 - attrition_output_loss: 0.0188 - department_output_accuracy: 0.9943 - department_output_loss: 0.0355 - loss: 0.0543 - val_attrition_output_accuracy: 0.8009 - val_attrition_output_loss: 1.2558 - val_department_output_accuracy: 0.4751 - val_department_output_loss: 3.1826 - val_loss: 4.4771\n",
      "Epoch 97/100\n",
      "\u001b[1m36/36\u001b[0m \u001b[32m━━━━━━━━━━━━━━━━━━━━\u001b[0m\u001b[37m\u001b[0m \u001b[1m0s\u001b[0m 7ms/step - attrition_output_accuracy: 0.9929 - attrition_output_loss: 0.0192 - department_output_accuracy: 0.9968 - department_output_loss: 0.0324 - loss: 0.0516 - val_attrition_output_accuracy: 0.8054 - val_attrition_output_loss: 1.2624 - val_department_output_accuracy: 0.4751 - val_department_output_loss: 3.1595 - val_loss: 4.4634\n",
      "Epoch 98/100\n",
      "\u001b[1m36/36\u001b[0m \u001b[32m━━━━━━━━━━━━━━━━━━━━\u001b[0m\u001b[37m\u001b[0m \u001b[1m0s\u001b[0m 9ms/step - attrition_output_accuracy: 0.9971 - attrition_output_loss: 0.0173 - department_output_accuracy: 0.9986 - department_output_loss: 0.0186 - loss: 0.0360 - val_attrition_output_accuracy: 0.8009 - val_attrition_output_loss: 1.2616 - val_department_output_accuracy: 0.4796 - val_department_output_loss: 3.1921 - val_loss: 4.4946\n",
      "Epoch 99/100\n",
      "\u001b[1m36/36\u001b[0m \u001b[32m━━━━━━━━━━━━━━━━━━━━\u001b[0m\u001b[37m\u001b[0m \u001b[1m0s\u001b[0m 6ms/step - attrition_output_accuracy: 0.9938 - attrition_output_loss: 0.0196 - department_output_accuracy: 1.0000 - department_output_loss: 0.0175 - loss: 0.0372 - val_attrition_output_accuracy: 0.8009 - val_attrition_output_loss: 1.3559 - val_department_output_accuracy: 0.4887 - val_department_output_loss: 3.3367 - val_loss: 4.7337\n",
      "Epoch 100/100\n",
      "\u001b[1m36/36\u001b[0m \u001b[32m━━━━━━━━━━━━━━━━━━━━\u001b[0m\u001b[37m\u001b[0m \u001b[1m0s\u001b[0m 8ms/step - attrition_output_accuracy: 0.9974 - attrition_output_loss: 0.0202 - department_output_accuracy: 0.9998 - department_output_loss: 0.0186 - loss: 0.0384 - val_attrition_output_accuracy: 0.8235 - val_attrition_output_loss: 1.3413 - val_department_output_accuracy: 0.4932 - val_department_output_loss: 3.4385 - val_loss: 4.8210\n"
     ]
    }
   ],
   "source": [
    "# Train the model\n",
    "history = model.fit(\n",
    "    X_train_scaled, \n",
    "    [y_train_encoded_dept, y_train_encoded_attr],\n",
    "    epochs=100,\n",
    "    batch_size=25,\n",
    "    validation_split=0.2)\n",
    "\n",
    "                    # validation_data=(X_test_scaled, [y_test_encoded_dept, y_test_encoded_attr]))\n"
   ]
  },
  {
   "cell_type": "code",
   "execution_count": 149,
   "metadata": {},
   "outputs": [
    {
     "name": "stdout",
     "output_type": "stream",
     "text": [
      "\u001b[1m12/12\u001b[0m \u001b[32m━━━━━━━━━━━━━━━━━━━━\u001b[0m\u001b[37m\u001b[0m \u001b[1m1s\u001b[0m 6ms/step - attrition_output_accuracy: 0.8223 - attrition_output_loss: 1.4441 - department_output_accuracy: 0.5852 - department_output_loss: 3.3580 - loss: 4.8052  \n"
     ]
    },
    {
     "data": {
      "text/plain": [
       "[4.29840087890625,\n",
       " 3.116145133972168,\n",
       " 1.1616426706314087,\n",
       " 0.83152174949646,\n",
       " 0.5978260636329651]"
      ]
     },
     "execution_count": 149,
     "metadata": {},
     "output_type": "execute_result"
    }
   ],
   "source": [
    "# Evaluate the model with the testing data\n",
    "test_results = model.evaluate(X_test_scaled, {'department_output': y_test_encoded_dept, 'attrition_output': y_test_encoded_attr})\n",
    "test_results\n"
   ]
  },
  {
   "cell_type": "code",
   "execution_count": 153,
   "metadata": {},
   "outputs": [
    {
     "name": "stdout",
     "output_type": "stream",
     "text": [
      "Attrition predictions accuracy: 0.83152174949646\n",
      "Department predictions accuracy: 0.5978260636329651\n"
     ]
    }
   ],
   "source": [
    "# Print the accuracy for both department and attrition\n",
    "print(f\"Attrition predictions accuracy: {test_results[3]}\")\n",
    "print(f\"Department predictions accuracy: {test_results[4]}\")"
   ]
  },
  {
   "cell_type": "markdown",
   "metadata": {
    "id": "eGSyfsZfWOQM"
   },
   "source": [
    "# Summary\n",
    "\n",
    "In the provided space below, briefly answer the following questions.\n",
    "\n",
    "1. Is accuracy the best metric to use on this data? Why or why not?\n",
    "\n",
    "2. What activation functions did you choose for your output layers, and why?\n",
    "\n",
    "3. Can you name a few ways that this model might be improved?"
   ]
  },
  {
   "cell_type": "markdown",
   "metadata": {
    "id": "pi9SLpFnWvbF"
   },
   "source": [
    "YOUR ANSWERS HERE\n",
    "\n",
    "1. The dataset involves predicting attrition and departments, which are both imbalanced. In such cases, accuracy can be misleading, because a model could predict the majority class and still appear accurate. \n",
    "- Attrition\n",
    "  - No     1233\n",
    "   - Yes     237\n",
    "- Department\n",
    "  - Research & Development    961\n",
    "  - Sales                     446\n",
    "  - Human Resources            63\n",
    "\n",
    "2. I used softmax for Department because it returns a probability distribution across multiple categories. I also used sigmoid for Attrition since it is  ideal for binary Attrition\n",
    "\n",
    "3. To improve this model, I could\n",
    "- Evaluate class imbalance for Attrition and Department by applying techniques like SMOTE (oversampling), Class weighting, or Undersampling.\n",
    "- Tune model architecture by adding more hidden layers or neurons or trying Dropout layers to reduce overfitting.\n",
    "- Hyperparameter tuning like number of epochs and batch sizes.\n",
    "- Use other metrics like F1-score, Confusion matrix, or even AUC-ROC for binary classification.\n",
    "- Try encoding other categorical variables."
   ]
  },
  {
   "cell_type": "code",
   "execution_count": 17,
   "metadata": {
    "executionInfo": {
     "elapsed": 3,
     "status": "ok",
     "timestamp": 1730699260004,
     "user": {
      "displayName": "Alexander Booth",
      "userId": "02269714993535573104"
     },
     "user_tz": 360
    },
    "id": "ZuQWjGgGXZ3C"
   },
   "outputs": [],
   "source": []
  }
 ],
 "metadata": {
  "colab": {
   "provenance": []
  },
  "kernelspec": {
   "display_name": "base",
   "language": "python",
   "name": "python3"
  },
  "language_info": {
   "codemirror_mode": {
    "name": "ipython",
    "version": 3
   },
   "file_extension": ".py",
   "mimetype": "text/x-python",
   "name": "python",
   "nbconvert_exporter": "python",
   "pygments_lexer": "ipython3",
   "version": "3.12.7"
  }
 },
 "nbformat": 4,
 "nbformat_minor": 0
}
